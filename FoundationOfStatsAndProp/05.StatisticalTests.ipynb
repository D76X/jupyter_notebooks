{
 "cells": [
  {
   "cell_type": "markdown",
   "id": "2aecab9b-febf-43d5-99a8-b3c0a18cc6e4",
   "metadata": {},
   "source": [
    "# Descriptive Statistic \n",
    "Identify significative elements in a dataset.\n",
    "\n",
    "1. Univariate\n",
    "2. Bivariate\n",
    "3. Multivariate\n",
    "\n",
    "# Inferential Statistic: \n",
    "Explain the significative elements in a dataset via relationships with other elements in the same dataset.\n",
    "\n",
    "1. Hypothesis Testing\n",
    "2. Model Fitting\n",
    "\n",
    "# Rule-based Learning Models: \n",
    "\n",
    "After the methods of Inferential Statistics have been applied to data and the different Hypotheses have been tested and validated it may be possible to deduce rules based on the data. In this case, the rules extracted from the data are considered a consolidated set that will not be subject to revision in the presence of additional data. These rules will be applied to make predictions from any future available data.\n",
    "\n",
    "# Machine Learning Models: \n",
    "\n",
    "This methodology extracts patterns from the available data and applies these patterns as rules in cases where predictions of available data must be made. In contrast to rule-based models though, the set of patterns will be revised as new data becomes available and is used to improve the models. \n",
    "\n"
   ]
  }
 ],
 "metadata": {
  "kernelspec": {
   "display_name": "Python 3 (ipykernel)",
   "language": "python",
   "name": "python3"
  },
  "language_info": {
   "codemirror_mode": {
    "name": "ipython",
    "version": 3
   },
   "file_extension": ".py",
   "mimetype": "text/x-python",
   "name": "python",
   "nbconvert_exporter": "python",
   "pygments_lexer": "ipython3",
   "version": "3.11.7"
  }
 },
 "nbformat": 4,
 "nbformat_minor": 5
}
