{
 "cells": [
  {
   "cell_type": "code",
   "execution_count": 1,
   "id": "70c7e585-a39f-4ebd-8c48-5db9a3ae7d92",
   "metadata": {},
   "outputs": [],
   "source": [
    "# Skewness\n",
    "# skewness: a measure of asymmetry around the mean, it is 0 for an ND\n",
    "# skewness = 0 means that values at the edges of the distribution are equally likely\n",
    "\n",
    "# Positive Skeewnes:\n",
    "# A right-skewed distribution shows many outliers with values larger than the mean.\n",
    "# These outliers greatly affect the mean value as they shift it considerably to the right of the median value.\n",
    "# An example is the distribution of incomes. \n",
    "# Income is floored at ZERO on the left as there cannot be negative values of income. \n",
    "# However, there is no upper limit to the possible values of incomes, thus this specific distribution will be right-skewed\n",
    "\n",
    "# Negative Skeewnes:\n",
    "# A left-skewed distribution shows many outliers with values smaller than the mean.\n",
    "# These outliers greatly affect the mean value as they shift it considerably to the left of the median value.\n",
    "# An example is the distribution of losses caused by storms. \n",
    "# The large majority of storms cause little or no losses.\n",
    "# Occasionally a large storm may cause great losses.\n",
    "# In this example the mean value will shift to the left of the median.\n",
    "# Losses that are caused by storms have an upper bound of zero and no lower bound."
   ]
  },
  {
   "cell_type": "code",
   "execution_count": 2,
   "id": "1b6b8f5c-54ad-4c37-afd5-bb4deada3763",
   "metadata": {},
   "outputs": [],
   "source": [
    "# Kurtosis\n",
    "# Kurtosis is a measure of the frequency of outliers.\n",
    "# ND have a kurtosis of 3.\n",
    "# Excess kurtosis = kurtosis - 3\n",
    "# A distribution with Kurtosis larger than 3 is a distribution in which outliers are more likely than the outliers of a ND"
   ]
  },
  {
   "cell_type": "code",
   "execution_count": 3,
   "id": "e1e46fa5-e577-4b7f-96de-8f0ceb1838e6",
   "metadata": {},
   "outputs": [],
   "source": [
    "import numpy as np\n",
    "import pandas as pd\n",
    "from scipy import stats\n",
    "from scipy.stats import norm\n",
    "import statsmodels.api as sm\n",
    "import seaborn as sns\n",
    "import matplotlib.pyplot as plt\n",
    "sns.set_theme(style='darkgrid')"
   ]
  },
  {
   "cell_type": "code",
   "execution_count": 4,
   "id": "df18fedf-6536-4762-aa17-b10efa02a6f3",
   "metadata": {},
   "outputs": [
    {
     "data": {
      "text/html": [
       "<div>\n",
       "<style scoped>\n",
       "    .dataframe tbody tr th:only-of-type {\n",
       "        vertical-align: middle;\n",
       "    }\n",
       "\n",
       "    .dataframe tbody tr th {\n",
       "        vertical-align: top;\n",
       "    }\n",
       "\n",
       "    .dataframe thead th {\n",
       "        text-align: right;\n",
       "    }\n",
       "</style>\n",
       "<table border=\"1\" class=\"dataframe\">\n",
       "  <thead>\n",
       "    <tr style=\"text-align: right;\">\n",
       "      <th></th>\n",
       "      <th>Date</th>\n",
       "      <th>Open</th>\n",
       "      <th>High</th>\n",
       "      <th>Low</th>\n",
       "      <th>Close</th>\n",
       "      <th>AdjClose</th>\n",
       "      <th>Volume</th>\n",
       "    </tr>\n",
       "  </thead>\n",
       "  <tbody>\n",
       "    <tr>\n",
       "      <th>0</th>\n",
       "      <td>31-Dec-1986</td>\n",
       "      <td>243.37</td>\n",
       "      <td>244.03</td>\n",
       "      <td>241.28</td>\n",
       "      <td>242.17</td>\n",
       "      <td>242.17</td>\n",
       "      <td>13,92,00,000</td>\n",
       "    </tr>\n",
       "    <tr>\n",
       "      <th>1</th>\n",
       "      <td>2-Jan-1987</td>\n",
       "      <td>242.17</td>\n",
       "      <td>246.45</td>\n",
       "      <td>242.17</td>\n",
       "      <td>246.45</td>\n",
       "      <td>246.45</td>\n",
       "      <td>9,18,80,000</td>\n",
       "    </tr>\n",
       "    <tr>\n",
       "      <th>2</th>\n",
       "      <td>5-Jan-1987</td>\n",
       "      <td>246.45</td>\n",
       "      <td>252.57</td>\n",
       "      <td>246.45</td>\n",
       "      <td>252.19</td>\n",
       "      <td>252.19</td>\n",
       "      <td>18,19,00,000</td>\n",
       "    </tr>\n",
       "    <tr>\n",
       "      <th>3</th>\n",
       "      <td>6-Jan-1987</td>\n",
       "      <td>252.20</td>\n",
       "      <td>253.99</td>\n",
       "      <td>252.14</td>\n",
       "      <td>252.78</td>\n",
       "      <td>252.78</td>\n",
       "      <td>18,93,00,000</td>\n",
       "    </tr>\n",
       "    <tr>\n",
       "      <th>4</th>\n",
       "      <td>7-Jan-1987</td>\n",
       "      <td>252.78</td>\n",
       "      <td>255.72</td>\n",
       "      <td>252.65</td>\n",
       "      <td>255.33</td>\n",
       "      <td>255.33</td>\n",
       "      <td>19,09,00,000</td>\n",
       "    </tr>\n",
       "  </tbody>\n",
       "</table>\n",
       "</div>"
      ],
      "text/plain": [
       "          Date    Open    High     Low   Close  AdjClose        Volume\n",
       "0  31-Dec-1986  243.37  244.03  241.28  242.17    242.17  13,92,00,000\n",
       "1   2-Jan-1987  242.17  246.45  242.17  246.45    246.45   9,18,80,000\n",
       "2   5-Jan-1987  246.45  252.57  246.45  252.19    252.19  18,19,00,000\n",
       "3   6-Jan-1987  252.20  253.99  252.14  252.78    252.78  18,93,00,000\n",
       "4   7-Jan-1987  252.78  255.72  252.65  255.33    255.33  19,09,00,000"
      ]
     },
     "execution_count": 4,
     "metadata": {},
     "output_type": "execute_result"
    }
   ],
   "source": [
    "sp_data = pd.read_csv('datasets/SP_500_1987.csv')\n",
    "sp_data.head()"
   ]
  },
  {
   "cell_type": "code",
   "execution_count": 5,
   "id": "6df9164b-9710-4fc0-b098-a4184f7c8b57",
   "metadata": {},
   "outputs": [
    {
     "data": {
      "text/html": [
       "<div>\n",
       "<style scoped>\n",
       "    .dataframe tbody tr th:only-of-type {\n",
       "        vertical-align: middle;\n",
       "    }\n",
       "\n",
       "    .dataframe tbody tr th {\n",
       "        vertical-align: top;\n",
       "    }\n",
       "\n",
       "    .dataframe thead th {\n",
       "        text-align: right;\n",
       "    }\n",
       "</style>\n",
       "<table border=\"1\" class=\"dataframe\">\n",
       "  <thead>\n",
       "    <tr style=\"text-align: right;\">\n",
       "      <th></th>\n",
       "      <th>Open</th>\n",
       "      <th>High</th>\n",
       "      <th>Low</th>\n",
       "      <th>Close</th>\n",
       "      <th>AdjClose</th>\n",
       "    </tr>\n",
       "  </thead>\n",
       "  <tbody>\n",
       "    <tr>\n",
       "      <th>count</th>\n",
       "      <td>253.000000</td>\n",
       "      <td>253.000000</td>\n",
       "      <td>253.000000</td>\n",
       "      <td>253.000000</td>\n",
       "      <td>253.000000</td>\n",
       "    </tr>\n",
       "    <tr>\n",
       "      <th>mean</th>\n",
       "      <td>286.964466</td>\n",
       "      <td>289.328063</td>\n",
       "      <td>284.412095</td>\n",
       "      <td>286.978617</td>\n",
       "      <td>286.978617</td>\n",
       "    </tr>\n",
       "    <tr>\n",
       "      <th>std</th>\n",
       "      <td>28.923683</td>\n",
       "      <td>28.241142</td>\n",
       "      <td>29.535528</td>\n",
       "      <td>28.889053</td>\n",
       "      <td>28.889053</td>\n",
       "    </tr>\n",
       "    <tr>\n",
       "      <th>min</th>\n",
       "      <td>223.980000</td>\n",
       "      <td>225.770000</td>\n",
       "      <td>216.460000</td>\n",
       "      <td>223.920000</td>\n",
       "      <td>223.920000</td>\n",
       "    </tr>\n",
       "    <tr>\n",
       "      <th>25%</th>\n",
       "      <td>267.840000</td>\n",
       "      <td>270.400000</td>\n",
       "      <td>264.310000</td>\n",
       "      <td>267.840000</td>\n",
       "      <td>267.840000</td>\n",
       "    </tr>\n",
       "    <tr>\n",
       "      <th>50%</th>\n",
       "      <td>290.520000</td>\n",
       "      <td>292.470000</td>\n",
       "      <td>288.340000</td>\n",
       "      <td>290.520000</td>\n",
       "      <td>290.520000</td>\n",
       "    </tr>\n",
       "    <tr>\n",
       "      <th>75%</th>\n",
       "      <td>308.940000</td>\n",
       "      <td>310.270000</td>\n",
       "      <td>307.420000</td>\n",
       "      <td>308.960000</td>\n",
       "      <td>308.960000</td>\n",
       "    </tr>\n",
       "    <tr>\n",
       "      <th>max</th>\n",
       "      <td>336.770000</td>\n",
       "      <td>337.890000</td>\n",
       "      <td>334.460000</td>\n",
       "      <td>336.770000</td>\n",
       "      <td>336.770000</td>\n",
       "    </tr>\n",
       "  </tbody>\n",
       "</table>\n",
       "</div>"
      ],
      "text/plain": [
       "             Open        High         Low       Close    AdjClose\n",
       "count  253.000000  253.000000  253.000000  253.000000  253.000000\n",
       "mean   286.964466  289.328063  284.412095  286.978617  286.978617\n",
       "std     28.923683   28.241142   29.535528   28.889053   28.889053\n",
       "min    223.980000  225.770000  216.460000  223.920000  223.920000\n",
       "25%    267.840000  270.400000  264.310000  267.840000  267.840000\n",
       "50%    290.520000  292.470000  288.340000  290.520000  290.520000\n",
       "75%    308.940000  310.270000  307.420000  308.960000  308.960000\n",
       "max    336.770000  337.890000  334.460000  336.770000  336.770000"
      ]
     },
     "execution_count": 5,
     "metadata": {},
     "output_type": "execute_result"
    }
   ],
   "source": [
    "sp_data.describe()"
   ]
  },
  {
   "cell_type": "code",
   "execution_count": 6,
   "id": "0c54d317-a22f-4f65-8f7e-7cd14bc9e4db",
   "metadata": {},
   "outputs": [
    {
     "data": {
      "text/plain": [
       "Date         object\n",
       "Open        float64\n",
       "High        float64\n",
       "Low         float64\n",
       "Close       float64\n",
       "AdjClose    float64\n",
       "Volume       object\n",
       "dtype: object"
      ]
     },
     "execution_count": 6,
     "metadata": {},
     "output_type": "execute_result"
    }
   ],
   "source": [
    "sp_data.dtypes"
   ]
  },
  {
   "cell_type": "code",
   "execution_count": 7,
   "id": "ec8ff6b1-1f8b-43c1-a9c3-7981ce9b7bb7",
   "metadata": {},
   "outputs": [],
   "source": [
    "# The DS has the column Date of type Object\n",
    "# We want to convert all the data in the Date column of the DS to the DateTime type\n",
    "sp_data['Date']\n",
    "\n",
    "# https://pandas.pydata.org/docs/reference/api/pandas.to_datetime.html\n",
    "# https://stackoverflow.com/questions/47556976/representing-date-format-for-three-letter-month-in-python\n",
    "# sp_data['Date'] = pd.to_datetime(sp_data['Date'], format='%d-%m-%Y')\n",
    "sp_data['Date'] = pd.to_datetime(sp_data['Date'], format='%d-%b-%Y')\n",
    "\n",
    "# The data file had to be edited as there were dates such as 01-Dec-1990 mixed with dates as 01-April-1990\n",
    "# All the entries with a format different from format='%d-%b-%Y' were corrected."
   ]
  },
  {
   "cell_type": "code",
   "execution_count": 8,
   "id": "8ce2408d-90b5-41ed-9856-8ed18b62e034",
   "metadata": {},
   "outputs": [
    {
     "data": {
      "text/plain": [
       "0     1986-12-31\n",
       "1     1987-01-02\n",
       "2     1987-01-05\n",
       "3     1987-01-06\n",
       "4     1987-01-07\n",
       "         ...    \n",
       "248   1987-12-23\n",
       "249   1987-12-24\n",
       "250   1987-12-28\n",
       "251   1987-12-29\n",
       "252   1987-12-30\n",
       "Name: Date, Length: 253, dtype: datetime64[ns]"
      ]
     },
     "execution_count": 8,
     "metadata": {},
     "output_type": "execute_result"
    }
   ],
   "source": [
    "sp_data['Date']"
   ]
  },
  {
   "cell_type": "code",
   "execution_count": 9,
   "id": "b0484ed3-72ae-4f1c-971c-7751dea31133",
   "metadata": {},
   "outputs": [
    {
     "data": {
      "text/plain": [
       "Date        datetime64[ns]\n",
       "Open               float64\n",
       "High               float64\n",
       "Low                float64\n",
       "Close              float64\n",
       "AdjClose           float64\n",
       "Volume              object\n",
       "dtype: object"
      ]
     },
     "execution_count": 9,
     "metadata": {},
     "output_type": "execute_result"
    }
   ],
   "source": [
    "sp_data.dtypes"
   ]
  },
  {
   "cell_type": "code",
   "execution_count": 10,
   "id": "25b54977-7d45-48cc-a997-759f400156a2",
   "metadata": {},
   "outputs": [
    {
     "name": "stderr",
     "output_type": "stream",
     "text": [
      "C:\\Users\\pb00270\\AppData\\Local\\anaconda3\\Lib\\site-packages\\seaborn\\_oldcore.py:1119: FutureWarning: use_inf_as_na option is deprecated and will be removed in a future version. Convert inf values to NaN before operating instead.\n",
      "  with pd.option_context('mode.use_inf_as_na', True):\n",
      "C:\\Users\\pb00270\\AppData\\Local\\anaconda3\\Lib\\site-packages\\seaborn\\_oldcore.py:1119: FutureWarning: use_inf_as_na option is deprecated and will be removed in a future version. Convert inf values to NaN before operating instead.\n",
      "  with pd.option_context('mode.use_inf_as_na', True):\n"
     ]
    },
    {
     "data": {
      "text/plain": [
       "Text(0.5, 1.0, 'S&P 500 1987')"
      ]
     },
     "execution_count": 10,
     "metadata": {},
     "output_type": "execute_result"
    },
    {
     "data": {
      "image/png": "[encoded data removed]",
      "text/plain": [
       "<Figure size 1200x800 with 1 Axes>"
      ]
     },
     "metadata": {},
     "output_type": "display_data"
    }
   ],
   "source": [
    "plt.figure(figsize=(12,8))\n",
    "sns.lineplot(data=sp_data, x='Date', y='AdjClose', color='red')\n",
    "plt.title('S&P 500 1987', fontsize='15')"
   ]
  },
  {
   "cell_type": "code",
   "execution_count": 11,
   "id": "faa328b7-f1cd-40b0-962f-b4cc3b34e305",
   "metadata": {},
   "outputs": [
    {
     "data": {
      "text/html": [
       "<div>\n",
       "<style scoped>\n",
       "    .dataframe tbody tr th:only-of-type {\n",
       "        vertical-align: middle;\n",
       "    }\n",
       "\n",
       "    .dataframe tbody tr th {\n",
       "        vertical-align: top;\n",
       "    }\n",
       "\n",
       "    .dataframe thead th {\n",
       "        text-align: right;\n",
       "    }\n",
       "</style>\n",
       "<table border=\"1\" class=\"dataframe\">\n",
       "  <thead>\n",
       "    <tr style=\"text-align: right;\">\n",
       "      <th></th>\n",
       "      <th>Date</th>\n",
       "      <th>Open</th>\n",
       "      <th>High</th>\n",
       "      <th>Low</th>\n",
       "      <th>Close</th>\n",
       "      <th>AdjClose</th>\n",
       "      <th>Volume</th>\n",
       "      <th>Returns</th>\n",
       "    </tr>\n",
       "  </thead>\n",
       "  <tbody>\n",
       "    <tr>\n",
       "      <th>0</th>\n",
       "      <td>1986-12-31</td>\n",
       "      <td>243.37</td>\n",
       "      <td>244.03</td>\n",
       "      <td>241.28</td>\n",
       "      <td>242.17</td>\n",
       "      <td>242.17</td>\n",
       "      <td>13,92,00,000</td>\n",
       "      <td>NaN</td>\n",
       "    </tr>\n",
       "    <tr>\n",
       "      <th>1</th>\n",
       "      <td>1987-01-02</td>\n",
       "      <td>242.17</td>\n",
       "      <td>246.45</td>\n",
       "      <td>242.17</td>\n",
       "      <td>246.45</td>\n",
       "      <td>246.45</td>\n",
       "      <td>9,18,80,000</td>\n",
       "      <td>0.017674</td>\n",
       "    </tr>\n",
       "    <tr>\n",
       "      <th>2</th>\n",
       "      <td>1987-01-05</td>\n",
       "      <td>246.45</td>\n",
       "      <td>252.57</td>\n",
       "      <td>246.45</td>\n",
       "      <td>252.19</td>\n",
       "      <td>252.19</td>\n",
       "      <td>18,19,00,000</td>\n",
       "      <td>0.023291</td>\n",
       "    </tr>\n",
       "    <tr>\n",
       "      <th>3</th>\n",
       "      <td>1987-01-06</td>\n",
       "      <td>252.20</td>\n",
       "      <td>253.99</td>\n",
       "      <td>252.14</td>\n",
       "      <td>252.78</td>\n",
       "      <td>252.78</td>\n",
       "      <td>18,93,00,000</td>\n",
       "      <td>0.002340</td>\n",
       "    </tr>\n",
       "    <tr>\n",
       "      <th>4</th>\n",
       "      <td>1987-01-07</td>\n",
       "      <td>252.78</td>\n",
       "      <td>255.72</td>\n",
       "      <td>252.65</td>\n",
       "      <td>255.33</td>\n",
       "      <td>255.33</td>\n",
       "      <td>19,09,00,000</td>\n",
       "      <td>0.010088</td>\n",
       "    </tr>\n",
       "  </tbody>\n",
       "</table>\n",
       "</div>"
      ],
      "text/plain": [
       "        Date    Open    High     Low   Close  AdjClose        Volume   Returns\n",
       "0 1986-12-31  243.37  244.03  241.28  242.17    242.17  13,92,00,000       NaN\n",
       "1 1987-01-02  242.17  246.45  242.17  246.45    246.45   9,18,80,000  0.017674\n",
       "2 1987-01-05  246.45  252.57  246.45  252.19    252.19  18,19,00,000  0.023291\n",
       "3 1987-01-06  252.20  253.99  252.14  252.78    252.78  18,93,00,000  0.002340\n",
       "4 1987-01-07  252.78  255.72  252.65  255.33    255.33  19,09,00,000  0.010088"
      ]
     },
     "execution_count": 11,
     "metadata": {},
     "output_type": "execute_result"
    }
   ],
   "source": [
    "# add a computed column to the DS as the % of change of the AdjClose data column\n",
    "sp_data['Returns'] = sp_data['AdjClose'].pct_change()\n",
    "sp_data.head()"
   ]
  },
  {
   "cell_type": "code",
   "execution_count": 12,
   "id": "7f78bd21-db41-4d85-969f-ee137c3b0fb1",
   "metadata": {},
   "outputs": [],
   "source": [
    "# remove the data with null or NaN values in any of the columns\n",
    "sp_data = sp_data.dropna()"
   ]
  },
  {
   "cell_type": "code",
   "execution_count": 13,
   "id": "d4101a27-5e6d-4c82-9c0d-9a0df745bc5f",
   "metadata": {},
   "outputs": [
    {
     "data": {
      "text/html": [
       "<div>\n",
       "<style scoped>\n",
       "    .dataframe tbody tr th:only-of-type {\n",
       "        vertical-align: middle;\n",
       "    }\n",
       "\n",
       "    .dataframe tbody tr th {\n",
       "        vertical-align: top;\n",
       "    }\n",
       "\n",
       "    .dataframe thead th {\n",
       "        text-align: right;\n",
       "    }\n",
       "</style>\n",
       "<table border=\"1\" class=\"dataframe\">\n",
       "  <thead>\n",
       "    <tr style=\"text-align: right;\">\n",
       "      <th></th>\n",
       "      <th>Date</th>\n",
       "      <th>Open</th>\n",
       "      <th>High</th>\n",
       "      <th>Low</th>\n",
       "      <th>Close</th>\n",
       "      <th>AdjClose</th>\n",
       "      <th>Volume</th>\n",
       "      <th>Returns</th>\n",
       "    </tr>\n",
       "  </thead>\n",
       "  <tbody>\n",
       "    <tr>\n",
       "      <th>1</th>\n",
       "      <td>1987-01-02</td>\n",
       "      <td>242.17</td>\n",
       "      <td>246.45</td>\n",
       "      <td>242.17</td>\n",
       "      <td>246.45</td>\n",
       "      <td>246.45</td>\n",
       "      <td>9,18,80,000</td>\n",
       "      <td>0.017674</td>\n",
       "    </tr>\n",
       "    <tr>\n",
       "      <th>2</th>\n",
       "      <td>1987-01-05</td>\n",
       "      <td>246.45</td>\n",
       "      <td>252.57</td>\n",
       "      <td>246.45</td>\n",
       "      <td>252.19</td>\n",
       "      <td>252.19</td>\n",
       "      <td>18,19,00,000</td>\n",
       "      <td>0.023291</td>\n",
       "    </tr>\n",
       "    <tr>\n",
       "      <th>3</th>\n",
       "      <td>1987-01-06</td>\n",
       "      <td>252.20</td>\n",
       "      <td>253.99</td>\n",
       "      <td>252.14</td>\n",
       "      <td>252.78</td>\n",
       "      <td>252.78</td>\n",
       "      <td>18,93,00,000</td>\n",
       "      <td>0.002340</td>\n",
       "    </tr>\n",
       "    <tr>\n",
       "      <th>4</th>\n",
       "      <td>1987-01-07</td>\n",
       "      <td>252.78</td>\n",
       "      <td>255.72</td>\n",
       "      <td>252.65</td>\n",
       "      <td>255.33</td>\n",
       "      <td>255.33</td>\n",
       "      <td>19,09,00,000</td>\n",
       "      <td>0.010088</td>\n",
       "    </tr>\n",
       "    <tr>\n",
       "      <th>5</th>\n",
       "      <td>1987-01-08</td>\n",
       "      <td>255.36</td>\n",
       "      <td>257.28</td>\n",
       "      <td>254.97</td>\n",
       "      <td>257.28</td>\n",
       "      <td>257.28</td>\n",
       "      <td>19,45,00,000</td>\n",
       "      <td>0.007637</td>\n",
       "    </tr>\n",
       "  </tbody>\n",
       "</table>\n",
       "</div>"
      ],
      "text/plain": [
       "        Date    Open    High     Low   Close  AdjClose        Volume   Returns\n",
       "1 1987-01-02  242.17  246.45  242.17  246.45    246.45   9,18,80,000  0.017674\n",
       "2 1987-01-05  246.45  252.57  246.45  252.19    252.19  18,19,00,000  0.023291\n",
       "3 1987-01-06  252.20  253.99  252.14  252.78    252.78  18,93,00,000  0.002340\n",
       "4 1987-01-07  252.78  255.72  252.65  255.33    255.33  19,09,00,000  0.010088\n",
       "5 1987-01-08  255.36  257.28  254.97  257.28    257.28  19,45,00,000  0.007637"
      ]
     },
     "execution_count": 13,
     "metadata": {},
     "output_type": "execute_result"
    }
   ],
   "source": [
    "sp_data.head()"
   ]
  },
  {
   "cell_type": "code",
   "execution_count": 14,
   "id": "9ad310a7-a789-49ea-8db3-d35b82401ca7",
   "metadata": {},
   "outputs": [
    {
     "data": {
      "text/plain": [
       "(252, 8)"
      ]
     },
     "execution_count": 14,
     "metadata": {},
     "output_type": "execute_result"
    }
   ],
   "source": [
    "sp_data.shape"
   ]
  },
  {
   "cell_type": "code",
   "execution_count": 15,
   "id": "86508c52-b010-4ded-b5ea-2ba7046bdf9f",
   "metadata": {},
   "outputs": [
    {
     "name": "stderr",
     "output_type": "stream",
     "text": [
      "C:\\Users\\pb00270\\AppData\\Local\\anaconda3\\Lib\\site-packages\\seaborn\\_oldcore.py:1119: FutureWarning: use_inf_as_na option is deprecated and will be removed in a future version. Convert inf values to NaN before operating instead.\n",
      "  with pd.option_context('mode.use_inf_as_na', True):\n"
     ]
    },
    {
     "data": {
      "text/plain": [
       "Text(0.5, 1.0, 'S&P 500 1987')"
      ]
     },
     "execution_count": 15,
     "metadata": {},
     "output_type": "execute_result"
    },
    {
     "data": {
      "image/png": "[encoded data removed]",
      "text/plain": [
       "<Figure size 1200x800 with 1 Axes>"
      ]
     },
     "metadata": {},
     "output_type": "display_data"
    }
   ],
   "source": [
    "plt.figure(figsize=(12,8))\n",
    "sns.histplot(data=sp_data, x='Returns', color='blue')\n",
    "plt.title('S&P 500 1987', fontsize='15')"
   ]
  },
  {
   "cell_type": "code",
   "execution_count": 16,
   "id": "f13d5fc2-60b1-4191-a841-12f37a29ff9e",
   "metadata": {},
   "outputs": [
    {
     "name": "stderr",
     "output_type": "stream",
     "text": [
      "C:\\Users\\pb00270\\AppData\\Local\\anaconda3\\Lib\\site-packages\\seaborn\\_oldcore.py:1119: FutureWarning: use_inf_as_na option is deprecated and will be removed in a future version. Convert inf values to NaN before operating instead.\n",
      "  with pd.option_context('mode.use_inf_as_na', True):\n"
     ]
    },
    {
     "data": {
      "text/plain": [
       "Text(0.5, 1.0, 'S&P 500 1987')"
      ]
     },
     "execution_count": 16,
     "metadata": {},
     "output_type": "execute_result"
    },
    {
     "data": {
      "image/png": "[encoded data removed]",
      "text/plain": [
       "<Figure size 1200x800 with 1 Axes>"
      ]
     },
     "metadata": {},
     "output_type": "display_data"
    }
   ],
   "source": [
    "plt.figure(figsize=(12,8))\n",
    "sns.kdeplot(data=sp_data, x='Returns')\n",
    "plt.title('S&P 500 1987', fontsize='15')"
   ]
  },
  {
   "cell_type": "code",
   "execution_count": 17,
   "id": "2d88193d-cafd-4b80-bdc6-f4ec8b95f399",
   "metadata": {},
   "outputs": [
    {
     "data": {
      "text/plain": [
       "-4.063006900553241"
      ]
     },
     "execution_count": 17,
     "metadata": {},
     "output_type": "execute_result"
    }
   ],
   "source": [
    "sp_data['Returns'].skew(axis=0)"
   ]
  },
  {
   "cell_type": "code",
   "execution_count": 18,
   "id": "fbd75ab5-d01c-4e1e-8f29-511a89f35ee8",
   "metadata": {},
   "outputs": [
    {
     "data": {
      "text/plain": [
       "(-4.038782236530137,\n",
       " 0.033689707286255054,\n",
       " -0.11690104948849872,\n",
       " -0.06460582304845877)"
      ]
     },
     "execution_count": 18,
     "metadata": {},
     "output_type": "execute_result"
    }
   ],
   "source": [
    "# compute the skew for the column Retunrs of the DS using statsmodels.api.stattools\n",
    "# instead of Pandas\n",
    "# It computes four values of skeewnes \n",
    "# 1 Standard Skewness Estimator (SSE)\n",
    "# 2 Quatile Based Skewness Estimator (QSE)\n",
    "# 3 Mean-Median SE (MMSE-AD) standardised by absolute deviation\n",
    "# 3 Mean-Median SE (MMSE-SD) standardised by std deviation\n",
    "sm.stats.stattools.robust_skewness(sp_data['Returns'])"
   ]
  },
  {
   "cell_type": "code",
   "execution_count": 20,
   "id": "969dc310-5926-404f-b168-728e6026a7c8",
   "metadata": {},
   "outputs": [
    {
     "data": {
      "text/plain": [
       "43.302749862695954"
      ]
     },
     "execution_count": 20,
     "metadata": {},
     "output_type": "execute_result"
    }
   ],
   "source": [
    "# mormally distributed data has a kurtosis of 3, any value larger than 3 is excess kurtosis\n",
    "# kurtosis is a measure of the likelihood of extreme values in a distribution\n",
    "sp_data['Returns'].kurtosis(axis=0)"
   ]
  },
  {
   "cell_type": "code",
   "execution_count": 22,
   "id": "049f1b7a-aa7f-43fc-9458-f212069aecff",
   "metadata": {},
   "outputs": [
    {
     "data": {
      "text/plain": [
       "(42.42461267897301, 0.5260629102317422, 1.1767790081095497, 1.350873758059222)"
      ]
     },
     "execution_count": 22,
     "metadata": {},
     "output_type": "execute_result"
    }
   ],
   "source": [
    "# there is also a ROBUST measure of kurtosis \n",
    "sm.stats.stattools.robust_kurtosis(sp_data['Returns'])"
   ]
  },
  {
   "cell_type": "code",
   "execution_count": 24,
   "id": "10cdcdf7-21fa-4af4-84bf-c26e76606ee1",
   "metadata": {},
   "outputs": [
    {
     "data": {
      "text/plain": [
       "(251, 8)"
      ]
     },
     "execution_count": 24,
     "metadata": {},
     "output_type": "execute_result"
    }
   ],
   "source": [
    "# a new dataset that is created from the original dataset by removing the date on the day of the market crash\n",
    "sp_data_without_19871019 = sp_data[sp_data['Date'] != '1987-10-19']\n",
    "sp_data_without_19871019.shape"
   ]
  },
  {
   "cell_type": "code",
   "execution_count": 25,
   "id": "a2adfa6d-ff85-4dc4-8158-80a5d6831d0e",
   "metadata": {},
   "outputs": [
    {
     "data": {
      "text/plain": [
       "(252, 8)"
      ]
     },
     "execution_count": 25,
     "metadata": {},
     "output_type": "execute_result"
    }
   ],
   "source": [
    "sp_data.shape"
   ]
  },
  {
   "cell_type": "code",
   "execution_count": 27,
   "id": "4cdfc3d2-44d9-438c-9b15-cd1f9fd6eb43",
   "metadata": {},
   "outputs": [
    {
     "data": {
      "text/plain": [
       "(0.017513164647138143,\n",
       " 0.04202122301747493,\n",
       " -0.04955418277064157,\n",
       " -0.03306593887076004)"
      ]
     },
     "execution_count": 27,
     "metadata": {},
     "output_type": "execute_result"
    }
   ],
   "source": [
    "# by removing the data on the date of the market crash the skewness of the distribution is much reduced\n",
    "sm.stats.stattools.robust_skewness(sp_data_without_19871019['Returns'])"
   ]
  },
  {
   "cell_type": "code",
   "execution_count": 28,
   "id": "7791905d-3e7f-46d4-894a-26534011a07a",
   "metadata": {},
   "outputs": [
    {
     "data": {
      "text/plain": [
       "(7.587148622145325, 0.5143641446322276, 0.7746063448479199, 1.299285954181316)"
      ]
     },
     "execution_count": 28,
     "metadata": {},
     "output_type": "execute_result"
    }
   ],
   "source": [
    "sm.stats.stattools.robust_kurtosis(sp_data_without_19871019['Returns'])"
   ]
  },
  {
   "cell_type": "code",
   "execution_count": null,
   "id": "4fae5708-85e0-458c-a8a3-cbbd8f67742c",
   "metadata": {},
   "outputs": [],
   "source": []
  }
 ],
 "metadata": {
  "kernelspec": {
   "display_name": "Python 3 (ipykernel)",
   "language": "python",
   "name": "python3"
  },
  "language_info": {
   "codemirror_mode": {
    "name": "ipython",
    "version": 3
   },
   "file_extension": ".py",
   "mimetype": "text/x-python",
   "name": "python",
   "nbconvert_exporter": "python",
   "pygments_lexer": "ipython3",
   "version": "3.11.7"
  }
 },
 "nbformat": 4,
 "nbformat_minor": 5
}
