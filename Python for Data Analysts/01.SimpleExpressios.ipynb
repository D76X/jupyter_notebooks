{
 "cells": [
  {
   "cell_type": "code",
   "execution_count": null,
   "id": "ee2ab442-8f6f-4037-a5b8-9a7f01de349c",
   "metadata": {},
   "outputs": [],
   "source": [
    "C:\\Users\\pb00270\\jupyter_notebooks"
   ]
  },
  {
   "cell_type": "code",
   "execution_count": 1,
   "id": "ab3f479a-a6bc-4c23-8640-d704490a22e6",
   "metadata": {},
   "outputs": [
    {
     "data": {
      "text/plain": [
       "4"
      ]
     },
     "execution_count": 1,
     "metadata": {},
     "output_type": "execute_result"
    }
   ],
   "source": [
    "2+2"
   ]
  },
  {
   "cell_type": "code",
   "execution_count": 2,
   "id": "a811d974-4e86-466c-9cdf-cc80a7fd0782",
   "metadata": {},
   "outputs": [
    {
     "data": {
      "text/plain": [
       "102"
      ]
     },
     "execution_count": 2,
     "metadata": {},
     "output_type": "execute_result"
    }
   ],
   "source": [
    "1+101"
   ]
  },
  {
   "cell_type": "code",
   "execution_count": null,
   "id": "f897c864-2882-49de-8c54-cec309ae901d",
   "metadata": {},
   "outputs": [],
   "source": []
  },
  {
   "cell_type": "code",
   "execution_count": null,
   "id": "324bd4fd-b510-4332-b863-b74ca43929e5",
   "metadata": {},
   "outputs": [],
   "source": []
  }
 ],
 "metadata": {
  "kernelspec": {
   "display_name": "Python 3 (ipykernel)",
   "language": "python",
   "name": "python3"
  },
  "language_info": {
   "codemirror_mode": {
    "name": "ipython",
    "version": 3
   },
   "file_extension": ".py",
   "mimetype": "text/x-python",
   "name": "python",
   "nbconvert_exporter": "python",
   "pygments_lexer": "ipython3",
   "version": "3.11.7"
  }
 },
 "nbformat": 4,
 "nbformat_minor": 5
}
