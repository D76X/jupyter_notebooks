{
 "cells": [
  {
   "cell_type": "markdown",
   "id": "2aecab9b-febf-43d5-99a8-b3c0a18cc6e4",
   "metadata": {},
   "source": [
    "Descriptive Statistic : identify significative elements in a dataset\n",
    "Inferential Statistic: explain the significative elements in a dataset via reletionships with other elements in the same dataset"
   ]
  }
 ],
 "metadata": {
  "kernelspec": {
   "display_name": "Python 3 (ipykernel)",
   "language": "python",
   "name": "python3"
  },
  "language_info": {
   "codemirror_mode": {
    "name": "ipython",
    "version": 3
   },
   "file_extension": ".py",
   "mimetype": "text/x-python",
   "name": "python",
   "nbconvert_exporter": "python",
   "pygments_lexer": "ipython3",
   "version": "3.11.7"
  }
 },
 "nbformat": 4,
 "nbformat_minor": 5
}
