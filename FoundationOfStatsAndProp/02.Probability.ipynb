{
 "cells": [
  {
   "cell_type": "code",
   "execution_count": 2,
   "id": "cef4aac5-c1ca-43de-9a75-434ccb9bc354",
   "metadata": {},
   "outputs": [],
   "source": [
    "import random\n",
    "import numpy as np\n",
    "import scipy.stats\n",
    "import seaborn as sns\n",
    "import matplotlib.pyplot as plt"
   ]
  },
  {
   "cell_type": "code",
   "execution_count": 3,
   "id": "4341460b-854a-47bb-9615-0f7a5680224b",
   "metadata": {},
   "outputs": [],
   "source": [
    "sns.set_theme(style=\"darkgrid\")"
   ]
  },
  {
   "cell_type": "code",
   "execution_count": 46,
   "id": "207c2e21-873b-4420-b5b1-582f5d2fd46d",
   "metadata": {},
   "outputs": [],
   "source": [
    "def flip(n):\n",
    "  result = []\n",
    "  for i in range(1, n+1):\n",
    "    #print(i)\n",
    "    result.append(random.choice([\"Heads\",\"Tails\"]))\n",
    "  return result"
   ]
  },
  {
   "cell_type": "code",
   "execution_count": 66,
   "id": "029ced5c-9dd1-4059-8d78-83b4b3370fa3",
   "metadata": {},
   "outputs": [
    {
     "name": "stdout",
     "output_type": "stream",
     "text": [
      "1\n",
      "2\n",
      "3\n",
      "4\n",
      "5\n",
      "6\n",
      "7\n",
      "8\n",
      "9\n",
      "10\n"
     ]
    }
   ],
   "source": [
    "result = flip(10)"
   ]
  },
  {
   "cell_type": "code",
   "execution_count": 67,
   "id": "17f3bd9d-efda-41aa-8e04-63b73be7b9ad",
   "metadata": {},
   "outputs": [
    {
     "data": {
      "text/plain": [
       "['Heads',\n",
       " 'Heads',\n",
       " 'Heads',\n",
       " 'Heads',\n",
       " 'Tails',\n",
       " 'Tails',\n",
       " 'Tails',\n",
       " 'Tails',\n",
       " 'Heads',\n",
       " 'Heads']"
      ]
     },
     "execution_count": 67,
     "metadata": {},
     "output_type": "execute_result"
    }
   ],
   "source": [
    "result"
   ]
  },
  {
   "cell_type": "code",
   "execution_count": 60,
   "id": "2f80beb3-cfa7-4710-b018-72d119d6c354",
   "metadata": {},
   "outputs": [
    {
     "data": {
      "text/plain": [
       "<Figure size 1200x800 with 0 Axes>"
      ]
     },
     "execution_count": 60,
     "metadata": {},
     "output_type": "execute_result"
    },
    {
     "data": {
      "text/plain": [
       "<Figure size 1200x800 with 0 Axes>"
      ]
     },
     "metadata": {},
     "output_type": "display_data"
    }
   ],
   "source": [
    "plt.figure(figsize=(12,8))"
   ]
  },
  {
   "cell_type": "code",
   "execution_count": 68,
   "id": "6652b79e-22ce-4e3b-addf-cd18588a2799",
   "metadata": {},
   "outputs": [
    {
     "name": "stderr",
     "output_type": "stream",
     "text": [
      "C:\\Users\\pb00270\\AppData\\Local\\anaconda3\\Lib\\site-packages\\seaborn\\_oldcore.py:1765: FutureWarning: unique with argument that is not not a Series, Index, ExtensionArray, or np.ndarray is deprecated and will raise in a future version.\n",
      "  order = pd.unique(vector)\n"
     ]
    },
    {
     "data": {
      "image/png": "[encoded data removed]",
      "text/plain": [
       "<Figure size 640x480 with 1 Axes>"
      ]
     },
     "metadata": {},
     "output_type": "display_data"
    }
   ],
   "source": [
    "sns.countplot(x=result)\n",
    "plt.xlabel('Coin Flip')\n",
    "plt.ylabel('Counts')\n",
    "plt.show()"
   ]
  },
  {
   "cell_type": "code",
   "execution_count": null,
   "id": "33c83595-1d88-49ef-94ec-88428a43a86e",
   "metadata": {},
   "outputs": [],
   "source": []
  }
 ],
 "metadata": {
  "kernelspec": {
   "display_name": "Python 3 (ipykernel)",
   "language": "python",
   "name": "python3"
  },
  "language_info": {
   "codemirror_mode": {
    "name": "ipython",
    "version": 3
   },
   "file_extension": ".py",
   "mimetype": "text/x-python",
   "name": "python",
   "nbconvert_exporter": "python",
   "pygments_lexer": "ipython3",
   "version": "3.11.7"
  }
 },
 "nbformat": 4,
 "nbformat_minor": 5
}
