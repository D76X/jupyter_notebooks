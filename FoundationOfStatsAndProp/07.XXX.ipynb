{
 "cells": [
  {
   "cell_type": "markdown",
   "id": "f025a907-a6f2-46eb-a910-b55d14dbd5b2",
   "metadata": {},
   "source": [
    "# [Two Sample t-test Part2](https://app.pluralsight.com/ilx/video-courses/4b4cdb5a-b0b9-4c17-8e5c-9d9e07e522a0/cd386635-4bb8-4317-a87e-f944b673f5f9/6e489dfd-5691-4ad4-9408-2ace8f3dbb22)  \n",
    "\n",
    "[Birthweight Datset](https://www.sheffield.ac.uk/mash/statistics/datasets)\n",
    "\n",
    "The two-sample t-test has the following features:\n",
    "\n",
    "- it works also with a small dataset as it is in this case\n",
    "- the samples need not be normally distributed"
   ]
  },
  {
   "cell_type": "code",
   "execution_count": null,
   "id": "0fb2fb23-3286-4821-bdc7-73390569ac96",
   "metadata": {},
   "outputs": [],
   "source": []
  }
 ],
 "metadata": {
  "kernelspec": {
   "display_name": "Python 3 (ipykernel)",
   "language": "python",
   "name": "python3"
  },
  "language_info": {
   "codemirror_mode": {
    "name": "ipython",
    "version": 3
   },
   "file_extension": ".py",
   "mimetype": "text/x-python",
   "name": "python",
   "nbconvert_exporter": "python",
   "pygments_lexer": "ipython3",
   "version": "3.11.7"
  }
 },
 "nbformat": 4,
 "nbformat_minor": 5
}
