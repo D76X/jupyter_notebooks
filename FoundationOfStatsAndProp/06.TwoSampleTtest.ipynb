{
 "cells": [
  {
   "cell_type": "markdown",
   "id": "b3ac903f-cb93-4a26-8b45-70da8bbb969e",
   "metadata": {},
   "source": [
    "# [Two Sample t-test](https://app.pluralsight.com/ilx/video-courses/4b4cdb5a-b0b9-4c17-8e5c-9d9e07e522a0/cd386635-4bb8-4317-a87e-f944b673f5f9/15ac9607-6cd4-4cc1-aabe-26941083f623)  \n",
    "\n",
    "[Datset](https://www.sheffield.ac.uk/mash/statistics/datasets)  "
   ]
  },
  {
   "cell_type": "code",
   "execution_count": null,
   "id": "53cfc7ab-2626-4c9e-9b04-6ca5a7d58818",
   "metadata": {},
   "outputs": [],
   "source": []
  },
  {
   "cell_type": "code",
   "execution_count": null,
   "id": "0a64496c-0bb7-4ef2-84b0-3ec07779ed02",
   "metadata": {},
   "outputs": [],
   "source": []
  }
 ],
 "metadata": {
  "kernelspec": {
   "display_name": "Python 3 (ipykernel)",
   "language": "python",
   "name": "python3"
  },
  "language_info": {
   "codemirror_mode": {
    "name": "ipython",
    "version": 3
   },
   "file_extension": ".py",
   "mimetype": "text/x-python",
   "name": "python",
   "nbconvert_exporter": "python",
   "pygments_lexer": "ipython3",
   "version": "3.11.7"
  }
 },
 "nbformat": 4,
 "nbformat_minor": 5
}
