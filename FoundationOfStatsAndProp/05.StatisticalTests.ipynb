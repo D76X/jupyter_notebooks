{
 "cells": [
  {
   "cell_type": "markdown",
   "id": "2aecab9b-febf-43d5-99a8-b3c0a18cc6e4",
   "metadata": {
    "jp-MarkdownHeadingCollapsed": true
   },
   "source": [
    "# Descriptive Statistic \n",
    "Identify significative elements in a dataset.\n",
    "\n",
    "1. Univariate\n",
    "2. Bivariate\n",
    "3. Multivariate\n",
    "\n",
    "# Inferential Statistic: \n",
    "Explain the significative elements in a dataset via relationships with other elements in the same dataset.\n",
    "\n",
    "1. Hypothesis Testing\n",
    "2. Model Fitting\n",
    "\n",
    "# Rule-based Learning Models: \n",
    "\n",
    "After the methods of Inferential Statistics have been applied to data and the different Hypotheses have been tested and validated it may be possible to deduce rules based on the data. In this case, the rules extracted from the data are considered a consolidated set that will not be subject to revision in the presence of additional data. These rules will be applied to make predictions from any future available data.\n",
    "\n",
    "# Machine Learning Models: \n",
    "\n",
    "This methodology extracts patterns from the available data and applies these patterns as rules in cases where predictions of available data must be made. In contrast to rule-based models though, the set of patterns will be revised as new data becomes available and is used to improve the models. \n",
    "\n"
   ]
  },
  {
   "cell_type": "markdown",
   "id": "cbcd4b56-9efd-4066-ae37-a37716e93a87",
   "metadata": {},
   "source": [
    "# Hypothesis Testing Process:  \n",
    "\n",
    "## Features of a Hypothesis:  \n",
    "\n",
    "- a hypothesis is a proposal for an explanation that is believed to be true\n",
    "- a hypothesis must be objectively testable\n",
    "\n",
    "## Hypothesis Testing Process Steps:  \n",
    "\n",
    "1. provide a **null hypothesis** is considered to be **true** until it is proven to be false\n",
    "2. provide an **alternative hypothesis** asserts a specific relationship between data\n",
    "3. select a **suitable** statistical test among those available from the large catalogue of hypothesis tests\n",
    "4. choose a **significance level** for the **p-value**\n",
    "5. run the test to produce a **test statistics** which will then converted to a **p-value**\n",
    "\n",
    "## The Null Hypothesis:  \n",
    "\n",
    "The **null hypothesis** poses no relationship is a statement that may be clarified by the following examples:\n",
    "\n",
    "- this drug **is not** effective in curing diabetes.\n",
    "- there is **no significative difference** between the average GPAs of students in any university.\n",
    "\n",
    "## The Alternative Hypothesis:  \n",
    "\n",
    "- this drug **is effective** in curing / combating diabetes.\n",
    "- students of University A have higher average GPAs than the those of the students of University B\n",
    "\n",
    "## Selection of a suitable statistical test for a hypothesis:\n",
    "\n",
    "The selection of a suitable hypothesis test from among those available depends on the following main factors:\n",
    "\n",
    "- the assumptions of the test\n",
    "- the data that is available to perform the test\n",
    "\n",
    "## Running of the test and conversion to a p-value:\n",
    "\n",
    "- the **significance level** for the **p-value** is usually in the form of a percentage threshold\n",
    "- a **small p-value** that is below the threshold, indicates that the test of the hypothesis produces an outcome that verifies the hypothesis\n",
    "- a **large p-value** that is below the threshold, indicates that the outcome has been produced by chance alone\n",
    "- if the **alternative hypothesis** is confirm then the  **null hypothesis** is rejected and viceversa  \n"
   ]
  },
  {
   "cell_type": "code",
   "execution_count": null,
   "id": "dfc8518b-6213-494d-98fe-07c3edb8c9aa",
   "metadata": {},
   "outputs": [],
   "source": []
  }
 ],
 "metadata": {
  "kernelspec": {
   "display_name": "Python 3 (ipykernel)",
   "language": "python",
   "name": "python3"
  },
  "language_info": {
   "codemirror_mode": {
    "name": "ipython",
    "version": 3
   },
   "file_extension": ".py",
   "mimetype": "text/x-python",
   "name": "python",
   "nbconvert_exporter": "python",
   "pygments_lexer": "ipython3",
   "version": "3.11.7"
  }
 },
 "nbformat": 4,
 "nbformat_minor": 5
}
