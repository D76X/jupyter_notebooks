{
 "cells": [
  {
   "cell_type": "markdown",
   "id": "b3ac903f-cb93-4a26-8b45-70da8bbb969e",
   "metadata": {},
   "source": [
    "# [Two Sample t-test](https://app.pluralsight.com/ilx/video-courses/4b4cdb5a-b0b9-4c17-8e5c-9d9e07e522a0/cd386635-4bb8-4317-a87e-f944b673f5f9/15ac9607-6cd4-4cc1-aabe-26941083f623)  \n",
    "\n",
    "[Birthweight Datset](https://www.sheffield.ac.uk/mash/statistics/datasets)\n",
    "\n",
    "The two-sample t-test has the following features:\n",
    "\n",
    "- it works also with a small dataset as it is in this case\n",
    "- the samples need not be normally distributed"
   ]
  },
  {
   "cell_type": "code",
   "execution_count": 1,
   "id": "53cfc7ab-2626-4c9e-9b04-6ca5a7d58818",
   "metadata": {},
   "outputs": [],
   "source": [
    "import numpy as np\n",
    "import pandas as pd\n",
    "from scipy import stats\n",
    "import seaborn as sns\n",
    "import matplotlib.pyplot as plt\n",
    "sns.set_theme(style=\"darkgrid\")\n",
    "\n",
    "# How to suppress Pandas Future warning?\n",
    "# https://stackoverflow.com/questions/15777951/how-to-suppress-pandas-future-warning\n",
    "import warnings\n",
    "warnings.simplefilter(action='ignore', category=FutureWarning)"
   ]
  },
  {
   "cell_type": "code",
   "execution_count": 2,
   "id": "0a64496c-0bb7-4ef2-84b0-3ec07779ed02",
   "metadata": {},
   "outputs": [
    {
     "data": {
      "text/html": [
       "<div>\n",
       "<style scoped>\n",
       "    .dataframe tbody tr th:only-of-type {\n",
       "        vertical-align: middle;\n",
       "    }\n",
       "\n",
       "    .dataframe tbody tr th {\n",
       "        vertical-align: top;\n",
       "    }\n",
       "\n",
       "    .dataframe thead th {\n",
       "        text-align: right;\n",
       "    }\n",
       "</style>\n",
       "<table border=\"1\" class=\"dataframe\">\n",
       "  <thead>\n",
       "    <tr style=\"text-align: right;\">\n",
       "      <th></th>\n",
       "      <th>ID</th>\n",
       "      <th>Length</th>\n",
       "      <th>Birthweight</th>\n",
       "      <th>Headcirc</th>\n",
       "      <th>Gestation</th>\n",
       "      <th>smoker</th>\n",
       "      <th>mage</th>\n",
       "      <th>mnocig</th>\n",
       "      <th>mheight</th>\n",
       "      <th>mppwt</th>\n",
       "      <th>fage</th>\n",
       "      <th>fedyrs</th>\n",
       "      <th>fnocig</th>\n",
       "      <th>fheight</th>\n",
       "      <th>lowbwt</th>\n",
       "      <th>mage35</th>\n",
       "    </tr>\n",
       "  </thead>\n",
       "  <tbody>\n",
       "    <tr>\n",
       "      <th>0</th>\n",
       "      <td>1360</td>\n",
       "      <td>56</td>\n",
       "      <td>4.55</td>\n",
       "      <td>34</td>\n",
       "      <td>44</td>\n",
       "      <td>0</td>\n",
       "      <td>20</td>\n",
       "      <td>0</td>\n",
       "      <td>162</td>\n",
       "      <td>57</td>\n",
       "      <td>23</td>\n",
       "      <td>10</td>\n",
       "      <td>35</td>\n",
       "      <td>179</td>\n",
       "      <td>0</td>\n",
       "      <td>0</td>\n",
       "    </tr>\n",
       "    <tr>\n",
       "      <th>1</th>\n",
       "      <td>1016</td>\n",
       "      <td>53</td>\n",
       "      <td>4.32</td>\n",
       "      <td>36</td>\n",
       "      <td>40</td>\n",
       "      <td>0</td>\n",
       "      <td>19</td>\n",
       "      <td>0</td>\n",
       "      <td>171</td>\n",
       "      <td>62</td>\n",
       "      <td>19</td>\n",
       "      <td>12</td>\n",
       "      <td>0</td>\n",
       "      <td>183</td>\n",
       "      <td>0</td>\n",
       "      <td>0</td>\n",
       "    </tr>\n",
       "    <tr>\n",
       "      <th>2</th>\n",
       "      <td>462</td>\n",
       "      <td>58</td>\n",
       "      <td>4.10</td>\n",
       "      <td>39</td>\n",
       "      <td>41</td>\n",
       "      <td>0</td>\n",
       "      <td>35</td>\n",
       "      <td>0</td>\n",
       "      <td>172</td>\n",
       "      <td>58</td>\n",
       "      <td>31</td>\n",
       "      <td>16</td>\n",
       "      <td>25</td>\n",
       "      <td>185</td>\n",
       "      <td>0</td>\n",
       "      <td>1</td>\n",
       "    </tr>\n",
       "    <tr>\n",
       "      <th>3</th>\n",
       "      <td>1187</td>\n",
       "      <td>53</td>\n",
       "      <td>4.07</td>\n",
       "      <td>38</td>\n",
       "      <td>44</td>\n",
       "      <td>0</td>\n",
       "      <td>20</td>\n",
       "      <td>0</td>\n",
       "      <td>174</td>\n",
       "      <td>68</td>\n",
       "      <td>26</td>\n",
       "      <td>14</td>\n",
       "      <td>25</td>\n",
       "      <td>189</td>\n",
       "      <td>0</td>\n",
       "      <td>0</td>\n",
       "    </tr>\n",
       "    <tr>\n",
       "      <th>4</th>\n",
       "      <td>553</td>\n",
       "      <td>54</td>\n",
       "      <td>3.94</td>\n",
       "      <td>37</td>\n",
       "      <td>42</td>\n",
       "      <td>0</td>\n",
       "      <td>24</td>\n",
       "      <td>0</td>\n",
       "      <td>175</td>\n",
       "      <td>66</td>\n",
       "      <td>30</td>\n",
       "      <td>12</td>\n",
       "      <td>0</td>\n",
       "      <td>184</td>\n",
       "      <td>0</td>\n",
       "      <td>0</td>\n",
       "    </tr>\n",
       "  </tbody>\n",
       "</table>\n",
       "</div>"
      ],
      "text/plain": [
       "     ID  Length  Birthweight  Headcirc  Gestation  smoker  mage  mnocig  \\\n",
       "0  1360      56         4.55        34         44       0    20       0   \n",
       "1  1016      53         4.32        36         40       0    19       0   \n",
       "2   462      58         4.10        39         41       0    35       0   \n",
       "3  1187      53         4.07        38         44       0    20       0   \n",
       "4   553      54         3.94        37         42       0    24       0   \n",
       "\n",
       "   mheight  mppwt  fage  fedyrs  fnocig  fheight  lowbwt  mage35  \n",
       "0      162     57    23      10      35      179       0       0  \n",
       "1      171     62    19      12       0      183       0       0  \n",
       "2      172     58    31      16      25      185       0       1  \n",
       "3      174     68    26      14      25      189       0       0  \n",
       "4      175     66    30      12       0      184       0       0  "
      ]
     },
     "execution_count": 2,
     "metadata": {},
     "output_type": "execute_result"
    }
   ],
   "source": [
    "birth_weigth_data = pd.read_csv('datasets/Birthweight_reduced_kg_R.csv')\n",
    "birth_weigth_data.head()"
   ]
  },
  {
   "cell_type": "code",
   "execution_count": 3,
   "id": "96002776-ffcd-41a5-8854-bcbf7394b179",
   "metadata": {},
   "outputs": [
    {
     "data": {
      "text/plain": [
       "(42, 16)"
      ]
     },
     "execution_count": 3,
     "metadata": {},
     "output_type": "execute_result"
    }
   ],
   "source": [
    "birth_weigth_data.shape"
   ]
  },
  {
   "cell_type": "markdown",
   "id": "9cf6a6c6-2f75-4127-992b-6fb424b90f60",
   "metadata": {},
   "source": [
    "check whther there are null values in this dataset"
   ]
  },
  {
   "cell_type": "code",
   "execution_count": 4,
   "id": "a9b96f2d-ff37-4415-bdaa-ac51bef63643",
   "metadata": {},
   "outputs": [
    {
     "data": {
      "text/plain": [
       "ID             0\n",
       "Length         0\n",
       "Birthweight    0\n",
       "Headcirc       0\n",
       "Gestation      0\n",
       "smoker         0\n",
       "mage           0\n",
       "mnocig         0\n",
       "mheight        0\n",
       "mppwt          0\n",
       "fage           0\n",
       "fedyrs         0\n",
       "fnocig         0\n",
       "fheight        0\n",
       "lowbwt         0\n",
       "mage35         0\n",
       "dtype: int64"
      ]
     },
     "execution_count": 4,
     "metadata": {},
     "output_type": "execute_result"
    }
   ],
   "source": [
    "birth_weigth_data.isnull().sum()"
   ]
  },
  {
   "cell_type": "code",
   "execution_count": 5,
   "id": "12b317e9-adb2-431b-8269-e491a63f4585",
   "metadata": {},
   "outputs": [
    {
     "data": {
      "text/html": [
       "<div>\n",
       "<style scoped>\n",
       "    .dataframe tbody tr th:only-of-type {\n",
       "        vertical-align: middle;\n",
       "    }\n",
       "\n",
       "    .dataframe tbody tr th {\n",
       "        vertical-align: top;\n",
       "    }\n",
       "\n",
       "    .dataframe thead th {\n",
       "        text-align: right;\n",
       "    }\n",
       "</style>\n",
       "<table border=\"1\" class=\"dataframe\">\n",
       "  <thead>\n",
       "    <tr style=\"text-align: right;\">\n",
       "      <th></th>\n",
       "      <th>ID</th>\n",
       "      <th>Length</th>\n",
       "      <th>Birthweight</th>\n",
       "      <th>Headcirc</th>\n",
       "      <th>Gestation</th>\n",
       "      <th>smoker</th>\n",
       "      <th>mage</th>\n",
       "      <th>mnocig</th>\n",
       "      <th>mheight</th>\n",
       "      <th>mppwt</th>\n",
       "      <th>fage</th>\n",
       "      <th>fedyrs</th>\n",
       "      <th>fnocig</th>\n",
       "      <th>fheight</th>\n",
       "      <th>lowbwt</th>\n",
       "      <th>mage35</th>\n",
       "    </tr>\n",
       "  </thead>\n",
       "  <tbody>\n",
       "    <tr>\n",
       "      <th>count</th>\n",
       "      <td>42.000000</td>\n",
       "      <td>42.000000</td>\n",
       "      <td>42.000000</td>\n",
       "      <td>42.000000</td>\n",
       "      <td>42.000000</td>\n",
       "      <td>42.000000</td>\n",
       "      <td>42.000000</td>\n",
       "      <td>42.000000</td>\n",
       "      <td>42.000000</td>\n",
       "      <td>42.000000</td>\n",
       "      <td>42.000000</td>\n",
       "      <td>42.000000</td>\n",
       "      <td>42.000000</td>\n",
       "      <td>42.000000</td>\n",
       "      <td>42.000000</td>\n",
       "      <td>42.000000</td>\n",
       "    </tr>\n",
       "    <tr>\n",
       "      <th>mean</th>\n",
       "      <td>894.071429</td>\n",
       "      <td>51.333333</td>\n",
       "      <td>3.312857</td>\n",
       "      <td>34.595238</td>\n",
       "      <td>39.190476</td>\n",
       "      <td>0.523810</td>\n",
       "      <td>25.547619</td>\n",
       "      <td>9.428571</td>\n",
       "      <td>164.452381</td>\n",
       "      <td>57.500000</td>\n",
       "      <td>28.904762</td>\n",
       "      <td>13.666667</td>\n",
       "      <td>17.190476</td>\n",
       "      <td>180.500000</td>\n",
       "      <td>0.142857</td>\n",
       "      <td>0.095238</td>\n",
       "    </tr>\n",
       "    <tr>\n",
       "      <th>std</th>\n",
       "      <td>467.616186</td>\n",
       "      <td>2.935624</td>\n",
       "      <td>0.603895</td>\n",
       "      <td>2.399792</td>\n",
       "      <td>2.643336</td>\n",
       "      <td>0.505487</td>\n",
       "      <td>5.666342</td>\n",
       "      <td>12.511737</td>\n",
       "      <td>6.504041</td>\n",
       "      <td>7.198408</td>\n",
       "      <td>6.863866</td>\n",
       "      <td>2.160247</td>\n",
       "      <td>17.308165</td>\n",
       "      <td>6.978189</td>\n",
       "      <td>0.354169</td>\n",
       "      <td>0.297102</td>\n",
       "    </tr>\n",
       "    <tr>\n",
       "      <th>min</th>\n",
       "      <td>27.000000</td>\n",
       "      <td>43.000000</td>\n",
       "      <td>1.920000</td>\n",
       "      <td>30.000000</td>\n",
       "      <td>33.000000</td>\n",
       "      <td>0.000000</td>\n",
       "      <td>18.000000</td>\n",
       "      <td>0.000000</td>\n",
       "      <td>149.000000</td>\n",
       "      <td>45.000000</td>\n",
       "      <td>19.000000</td>\n",
       "      <td>10.000000</td>\n",
       "      <td>0.000000</td>\n",
       "      <td>169.000000</td>\n",
       "      <td>0.000000</td>\n",
       "      <td>0.000000</td>\n",
       "    </tr>\n",
       "    <tr>\n",
       "      <th>25%</th>\n",
       "      <td>537.250000</td>\n",
       "      <td>50.000000</td>\n",
       "      <td>2.940000</td>\n",
       "      <td>33.000000</td>\n",
       "      <td>38.000000</td>\n",
       "      <td>0.000000</td>\n",
       "      <td>20.250000</td>\n",
       "      <td>0.000000</td>\n",
       "      <td>161.000000</td>\n",
       "      <td>52.250000</td>\n",
       "      <td>23.000000</td>\n",
       "      <td>12.000000</td>\n",
       "      <td>0.000000</td>\n",
       "      <td>175.250000</td>\n",
       "      <td>0.000000</td>\n",
       "      <td>0.000000</td>\n",
       "    </tr>\n",
       "    <tr>\n",
       "      <th>50%</th>\n",
       "      <td>821.000000</td>\n",
       "      <td>52.000000</td>\n",
       "      <td>3.295000</td>\n",
       "      <td>34.000000</td>\n",
       "      <td>39.500000</td>\n",
       "      <td>1.000000</td>\n",
       "      <td>24.000000</td>\n",
       "      <td>4.500000</td>\n",
       "      <td>164.500000</td>\n",
       "      <td>57.000000</td>\n",
       "      <td>29.500000</td>\n",
       "      <td>14.000000</td>\n",
       "      <td>18.500000</td>\n",
       "      <td>180.500000</td>\n",
       "      <td>0.000000</td>\n",
       "      <td>0.000000</td>\n",
       "    </tr>\n",
       "    <tr>\n",
       "      <th>75%</th>\n",
       "      <td>1269.500000</td>\n",
       "      <td>53.000000</td>\n",
       "      <td>3.647500</td>\n",
       "      <td>36.000000</td>\n",
       "      <td>41.000000</td>\n",
       "      <td>1.000000</td>\n",
       "      <td>29.000000</td>\n",
       "      <td>15.750000</td>\n",
       "      <td>169.500000</td>\n",
       "      <td>62.000000</td>\n",
       "      <td>32.000000</td>\n",
       "      <td>16.000000</td>\n",
       "      <td>25.000000</td>\n",
       "      <td>184.750000</td>\n",
       "      <td>0.000000</td>\n",
       "      <td>0.000000</td>\n",
       "    </tr>\n",
       "    <tr>\n",
       "      <th>max</th>\n",
       "      <td>1764.000000</td>\n",
       "      <td>58.000000</td>\n",
       "      <td>4.570000</td>\n",
       "      <td>39.000000</td>\n",
       "      <td>45.000000</td>\n",
       "      <td>1.000000</td>\n",
       "      <td>41.000000</td>\n",
       "      <td>50.000000</td>\n",
       "      <td>181.000000</td>\n",
       "      <td>78.000000</td>\n",
       "      <td>46.000000</td>\n",
       "      <td>16.000000</td>\n",
       "      <td>50.000000</td>\n",
       "      <td>200.000000</td>\n",
       "      <td>1.000000</td>\n",
       "      <td>1.000000</td>\n",
       "    </tr>\n",
       "  </tbody>\n",
       "</table>\n",
       "</div>"
      ],
      "text/plain": [
       "                ID     Length  Birthweight   Headcirc  Gestation     smoker  \\\n",
       "count    42.000000  42.000000    42.000000  42.000000  42.000000  42.000000   \n",
       "mean    894.071429  51.333333     3.312857  34.595238  39.190476   0.523810   \n",
       "std     467.616186   2.935624     0.603895   2.399792   2.643336   0.505487   \n",
       "min      27.000000  43.000000     1.920000  30.000000  33.000000   0.000000   \n",
       "25%     537.250000  50.000000     2.940000  33.000000  38.000000   0.000000   \n",
       "50%     821.000000  52.000000     3.295000  34.000000  39.500000   1.000000   \n",
       "75%    1269.500000  53.000000     3.647500  36.000000  41.000000   1.000000   \n",
       "max    1764.000000  58.000000     4.570000  39.000000  45.000000   1.000000   \n",
       "\n",
       "            mage     mnocig     mheight      mppwt       fage     fedyrs  \\\n",
       "count  42.000000  42.000000   42.000000  42.000000  42.000000  42.000000   \n",
       "mean   25.547619   9.428571  164.452381  57.500000  28.904762  13.666667   \n",
       "std     5.666342  12.511737    6.504041   7.198408   6.863866   2.160247   \n",
       "min    18.000000   0.000000  149.000000  45.000000  19.000000  10.000000   \n",
       "25%    20.250000   0.000000  161.000000  52.250000  23.000000  12.000000   \n",
       "50%    24.000000   4.500000  164.500000  57.000000  29.500000  14.000000   \n",
       "75%    29.000000  15.750000  169.500000  62.000000  32.000000  16.000000   \n",
       "max    41.000000  50.000000  181.000000  78.000000  46.000000  16.000000   \n",
       "\n",
       "          fnocig     fheight     lowbwt     mage35  \n",
       "count  42.000000   42.000000  42.000000  42.000000  \n",
       "mean   17.190476  180.500000   0.142857   0.095238  \n",
       "std    17.308165    6.978189   0.354169   0.297102  \n",
       "min     0.000000  169.000000   0.000000   0.000000  \n",
       "25%     0.000000  175.250000   0.000000   0.000000  \n",
       "50%    18.500000  180.500000   0.000000   0.000000  \n",
       "75%    25.000000  184.750000   0.000000   0.000000  \n",
       "max    50.000000  200.000000   1.000000   1.000000  "
      ]
     },
     "execution_count": 5,
     "metadata": {},
     "output_type": "execute_result"
    }
   ],
   "source": [
    "birth_weigth_data.describe()"
   ]
  },
  {
   "cell_type": "code",
   "execution_count": 6,
   "id": "e742de78-0031-4521-8006-e581d9bc9ca5",
   "metadata": {},
   "outputs": [
    {
     "data": {
      "text/html": [
       "<div>\n",
       "<style scoped>\n",
       "    .dataframe tbody tr th:only-of-type {\n",
       "        vertical-align: middle;\n",
       "    }\n",
       "\n",
       "    .dataframe tbody tr th {\n",
       "        vertical-align: top;\n",
       "    }\n",
       "\n",
       "    .dataframe thead th {\n",
       "        text-align: right;\n",
       "    }\n",
       "</style>\n",
       "<table border=\"1\" class=\"dataframe\">\n",
       "  <thead>\n",
       "    <tr style=\"text-align: right;\">\n",
       "      <th></th>\n",
       "      <th>count</th>\n",
       "      <th>mean</th>\n",
       "      <th>std</th>\n",
       "      <th>min</th>\n",
       "      <th>25%</th>\n",
       "      <th>50%</th>\n",
       "      <th>75%</th>\n",
       "      <th>max</th>\n",
       "    </tr>\n",
       "  </thead>\n",
       "  <tbody>\n",
       "    <tr>\n",
       "      <th>ID</th>\n",
       "      <td>42.0</td>\n",
       "      <td>894.071429</td>\n",
       "      <td>467.616186</td>\n",
       "      <td>27.00</td>\n",
       "      <td>537.25</td>\n",
       "      <td>821.000</td>\n",
       "      <td>1269.5000</td>\n",
       "      <td>1764.00</td>\n",
       "    </tr>\n",
       "    <tr>\n",
       "      <th>Length</th>\n",
       "      <td>42.0</td>\n",
       "      <td>51.333333</td>\n",
       "      <td>2.935624</td>\n",
       "      <td>43.00</td>\n",
       "      <td>50.00</td>\n",
       "      <td>52.000</td>\n",
       "      <td>53.0000</td>\n",
       "      <td>58.00</td>\n",
       "    </tr>\n",
       "    <tr>\n",
       "      <th>Birthweight</th>\n",
       "      <td>42.0</td>\n",
       "      <td>3.312857</td>\n",
       "      <td>0.603895</td>\n",
       "      <td>1.92</td>\n",
       "      <td>2.94</td>\n",
       "      <td>3.295</td>\n",
       "      <td>3.6475</td>\n",
       "      <td>4.57</td>\n",
       "    </tr>\n",
       "    <tr>\n",
       "      <th>Headcirc</th>\n",
       "      <td>42.0</td>\n",
       "      <td>34.595238</td>\n",
       "      <td>2.399792</td>\n",
       "      <td>30.00</td>\n",
       "      <td>33.00</td>\n",
       "      <td>34.000</td>\n",
       "      <td>36.0000</td>\n",
       "      <td>39.00</td>\n",
       "    </tr>\n",
       "    <tr>\n",
       "      <th>Gestation</th>\n",
       "      <td>42.0</td>\n",
       "      <td>39.190476</td>\n",
       "      <td>2.643336</td>\n",
       "      <td>33.00</td>\n",
       "      <td>38.00</td>\n",
       "      <td>39.500</td>\n",
       "      <td>41.0000</td>\n",
       "      <td>45.00</td>\n",
       "    </tr>\n",
       "    <tr>\n",
       "      <th>smoker</th>\n",
       "      <td>42.0</td>\n",
       "      <td>0.523810</td>\n",
       "      <td>0.505487</td>\n",
       "      <td>0.00</td>\n",
       "      <td>0.00</td>\n",
       "      <td>1.000</td>\n",
       "      <td>1.0000</td>\n",
       "      <td>1.00</td>\n",
       "    </tr>\n",
       "    <tr>\n",
       "      <th>mage</th>\n",
       "      <td>42.0</td>\n",
       "      <td>25.547619</td>\n",
       "      <td>5.666342</td>\n",
       "      <td>18.00</td>\n",
       "      <td>20.25</td>\n",
       "      <td>24.000</td>\n",
       "      <td>29.0000</td>\n",
       "      <td>41.00</td>\n",
       "    </tr>\n",
       "    <tr>\n",
       "      <th>mnocig</th>\n",
       "      <td>42.0</td>\n",
       "      <td>9.428571</td>\n",
       "      <td>12.511737</td>\n",
       "      <td>0.00</td>\n",
       "      <td>0.00</td>\n",
       "      <td>4.500</td>\n",
       "      <td>15.7500</td>\n",
       "      <td>50.00</td>\n",
       "    </tr>\n",
       "    <tr>\n",
       "      <th>mheight</th>\n",
       "      <td>42.0</td>\n",
       "      <td>164.452381</td>\n",
       "      <td>6.504041</td>\n",
       "      <td>149.00</td>\n",
       "      <td>161.00</td>\n",
       "      <td>164.500</td>\n",
       "      <td>169.5000</td>\n",
       "      <td>181.00</td>\n",
       "    </tr>\n",
       "    <tr>\n",
       "      <th>mppwt</th>\n",
       "      <td>42.0</td>\n",
       "      <td>57.500000</td>\n",
       "      <td>7.198408</td>\n",
       "      <td>45.00</td>\n",
       "      <td>52.25</td>\n",
       "      <td>57.000</td>\n",
       "      <td>62.0000</td>\n",
       "      <td>78.00</td>\n",
       "    </tr>\n",
       "    <tr>\n",
       "      <th>fage</th>\n",
       "      <td>42.0</td>\n",
       "      <td>28.904762</td>\n",
       "      <td>6.863866</td>\n",
       "      <td>19.00</td>\n",
       "      <td>23.00</td>\n",
       "      <td>29.500</td>\n",
       "      <td>32.0000</td>\n",
       "      <td>46.00</td>\n",
       "    </tr>\n",
       "    <tr>\n",
       "      <th>fedyrs</th>\n",
       "      <td>42.0</td>\n",
       "      <td>13.666667</td>\n",
       "      <td>2.160247</td>\n",
       "      <td>10.00</td>\n",
       "      <td>12.00</td>\n",
       "      <td>14.000</td>\n",
       "      <td>16.0000</td>\n",
       "      <td>16.00</td>\n",
       "    </tr>\n",
       "    <tr>\n",
       "      <th>fnocig</th>\n",
       "      <td>42.0</td>\n",
       "      <td>17.190476</td>\n",
       "      <td>17.308165</td>\n",
       "      <td>0.00</td>\n",
       "      <td>0.00</td>\n",
       "      <td>18.500</td>\n",
       "      <td>25.0000</td>\n",
       "      <td>50.00</td>\n",
       "    </tr>\n",
       "    <tr>\n",
       "      <th>fheight</th>\n",
       "      <td>42.0</td>\n",
       "      <td>180.500000</td>\n",
       "      <td>6.978189</td>\n",
       "      <td>169.00</td>\n",
       "      <td>175.25</td>\n",
       "      <td>180.500</td>\n",
       "      <td>184.7500</td>\n",
       "      <td>200.00</td>\n",
       "    </tr>\n",
       "    <tr>\n",
       "      <th>lowbwt</th>\n",
       "      <td>42.0</td>\n",
       "      <td>0.142857</td>\n",
       "      <td>0.354169</td>\n",
       "      <td>0.00</td>\n",
       "      <td>0.00</td>\n",
       "      <td>0.000</td>\n",
       "      <td>0.0000</td>\n",
       "      <td>1.00</td>\n",
       "    </tr>\n",
       "    <tr>\n",
       "      <th>mage35</th>\n",
       "      <td>42.0</td>\n",
       "      <td>0.095238</td>\n",
       "      <td>0.297102</td>\n",
       "      <td>0.00</td>\n",
       "      <td>0.00</td>\n",
       "      <td>0.000</td>\n",
       "      <td>0.0000</td>\n",
       "      <td>1.00</td>\n",
       "    </tr>\n",
       "  </tbody>\n",
       "</table>\n",
       "</div>"
      ],
      "text/plain": [
       "             count        mean         std     min     25%      50%  \\\n",
       "ID            42.0  894.071429  467.616186   27.00  537.25  821.000   \n",
       "Length        42.0   51.333333    2.935624   43.00   50.00   52.000   \n",
       "Birthweight   42.0    3.312857    0.603895    1.92    2.94    3.295   \n",
       "Headcirc      42.0   34.595238    2.399792   30.00   33.00   34.000   \n",
       "Gestation     42.0   39.190476    2.643336   33.00   38.00   39.500   \n",
       "smoker        42.0    0.523810    0.505487    0.00    0.00    1.000   \n",
       "mage          42.0   25.547619    5.666342   18.00   20.25   24.000   \n",
       "mnocig        42.0    9.428571   12.511737    0.00    0.00    4.500   \n",
       "mheight       42.0  164.452381    6.504041  149.00  161.00  164.500   \n",
       "mppwt         42.0   57.500000    7.198408   45.00   52.25   57.000   \n",
       "fage          42.0   28.904762    6.863866   19.00   23.00   29.500   \n",
       "fedyrs        42.0   13.666667    2.160247   10.00   12.00   14.000   \n",
       "fnocig        42.0   17.190476   17.308165    0.00    0.00   18.500   \n",
       "fheight       42.0  180.500000    6.978189  169.00  175.25  180.500   \n",
       "lowbwt        42.0    0.142857    0.354169    0.00    0.00    0.000   \n",
       "mage35        42.0    0.095238    0.297102    0.00    0.00    0.000   \n",
       "\n",
       "                   75%      max  \n",
       "ID           1269.5000  1764.00  \n",
       "Length         53.0000    58.00  \n",
       "Birthweight     3.6475     4.57  \n",
       "Headcirc       36.0000    39.00  \n",
       "Gestation      41.0000    45.00  \n",
       "smoker          1.0000     1.00  \n",
       "mage           29.0000    41.00  \n",
       "mnocig         15.7500    50.00  \n",
       "mheight       169.5000   181.00  \n",
       "mppwt          62.0000    78.00  \n",
       "fage           32.0000    46.00  \n",
       "fedyrs         16.0000    16.00  \n",
       "fnocig         25.0000    50.00  \n",
       "fheight       184.7500   200.00  \n",
       "lowbwt          0.0000     1.00  \n",
       "mage35          0.0000     1.00  "
      ]
     },
     "execution_count": 6,
     "metadata": {},
     "output_type": "execute_result"
    }
   ],
   "source": [
    "birth_weigth_data.describe().T"
   ]
  },
  {
   "cell_type": "code",
   "execution_count": 7,
   "id": "7034bfcb-16d5-4c76-8440-0c44dad5356e",
   "metadata": {},
   "outputs": [
    {
     "data": {
      "text/plain": [
       "smoker\n",
       "1    22\n",
       "0    20\n",
       "Name: count, dtype: int64"
      ]
     },
     "execution_count": 7,
     "metadata": {},
     "output_type": "execute_result"
    }
   ],
   "source": [
    "birth_weigth_data['smoker'].value_counts()"
   ]
  },
  {
   "cell_type": "code",
   "execution_count": 8,
   "id": "f02224fa-c873-45ab-8652-82a7fb1e2dbe",
   "metadata": {
    "editable": true,
    "slideshow": {
     "slide_type": ""
    },
    "tags": []
   },
   "outputs": [
    {
     "data": {
      "text/plain": [
       "<Axes: xlabel='Birthweight', ylabel='Count'>"
      ]
     },
     "execution_count": 8,
     "metadata": {},
     "output_type": "execute_result"
    },
    {
     "data": {
      "image/png": "[encoded data removed]",
      "text/plain": [
       "<Figure size 1200x800 with 1 Axes>"
      ]
     },
     "metadata": {},
     "output_type": "display_data"
    }
   ],
   "source": [
    "plt.figure(figsize=(12,8))\n",
    "sns.histplot(birth_weigth_data['Birthweight'], kde=True)"
   ]
  },
  {
   "cell_type": "code",
   "execution_count": 9,
   "id": "bf546256-dd4a-4ff3-9de1-5a812776545c",
   "metadata": {},
   "outputs": [
    {
     "data": {
      "text/plain": [
       "((array([-2.13530463, -1.75401012, -1.52749667, -1.35994814, -1.2237273 ,\n",
       "         -1.10706946, -1.00380487, -0.91026749, -0.8240868 , -0.74363219,\n",
       "         -0.66772711, -0.5954891 , -0.52623439, -0.45941783, -0.39459348,\n",
       "         -0.33138763, -0.2694798 , -0.20858878, -0.14846216, -0.08886798,\n",
       "         -0.02958803,  0.02958803,  0.08886798,  0.14846216,  0.20858878,\n",
       "          0.2694798 ,  0.33138763,  0.39459348,  0.45941783,  0.52623439,\n",
       "          0.5954891 ,  0.66772711,  0.74363219,  0.8240868 ,  0.91026749,\n",
       "          1.00380487,  1.10706946,  1.2237273 ,  1.35994814,  1.52749667,\n",
       "          1.75401012,  2.13530463]),\n",
       "  array([1.92, 2.05, 2.37, 2.51, 2.65, 2.66, 2.74, 2.75, 2.78, 2.9 , 2.92,\n",
       "         3.  , 3.03, 3.11, 3.14, 3.15, 3.18, 3.19, 3.2 , 3.23, 3.27, 3.32,\n",
       "         3.32, 3.35, 3.41, 3.42, 3.53, 3.55, 3.59, 3.63, 3.64, 3.65, 3.77,\n",
       "         3.86, 3.87, 3.93, 3.94, 4.07, 4.1 , 4.32, 4.55, 4.57])),\n",
       " (0.6194639325106983, 3.3128571428571427, 0.9955922379790386))"
      ]
     },
     "execution_count": 9,
     "metadata": {},
     "output_type": "execute_result"
    },
    {
     "data": {
      "image/png": "[encoded data removed]",
      "text/plain": [
       "<Figure size 1200x800 with 1 Axes>"
      ]
     },
     "metadata": {},
     "output_type": "display_data"
    }
   ],
   "source": [
    "plt.figure(figsize=(12,8))\n",
    "stats.probplot(birth_weigth_data['Birthweight'], dist='norm', plot=plt)"
   ]
  },
  {
   "cell_type": "markdown",
   "id": "16a6a998-91ee-4f25-b9f5-b54921b8a323",
   "metadata": {},
   "source": [
    "probplot shows that the birth weight data follows a theoretical normal distribution closely.  \n",
    "\n",
    "The same can be verified by applying the **shapiro** statistical test.\n",
    "\n",
    "The **shapiro** statistical test has the following hypothesis: \n",
    "\n",
    "H0: the data in **is not** normally distributed  \n",
    "H1: the data **is** normally distributed  \n",
    "\n",
    "the default confidence threshold is 5% thus any p-value larger than 0.05 leads to the conclusion that H0 is to be rejected while H1 holds true.  "
   ]
  },
  {
   "cell_type": "code",
   "execution_count": 10,
   "id": "afa5cbbb-e191-4d01-8c7f-6b9f2ec42f71",
   "metadata": {
    "editable": true,
    "slideshow": {
     "slide_type": ""
    },
    "tags": []
   },
   "outputs": [
    {
     "data": {
      "text/plain": [
       "ShapiroResult(statistic=0.9899008274078369, pvalue=0.9684653878211975)"
      ]
     },
     "execution_count": 10,
     "metadata": {},
     "output_type": "execute_result"
    }
   ],
   "source": [
    "stats.shapiro(birth_weigth_data['Birthweight'])"
   ]
  },
  {
   "cell_type": "code",
   "execution_count": 11,
   "id": "5517af1f-9371-43a4-ac2e-92ee3e4f44d9",
   "metadata": {
    "scrolled": true
   },
   "outputs": [
    {
     "data": {
      "image/png": "[encoded data removed]",
      "text/plain": [
       "<Figure size 1200x800 with 1 Axes>"
      ]
     },
     "metadata": {},
     "output_type": "display_data"
    }
   ],
   "source": [
    "plt.figure(figsize=(12,8))\n",
    "sns.boxenplot(data=birth_weigth_data, x='smoker', y='Birthweight')\n",
    "plt.show()"
   ]
  },
  {
   "cell_type": "markdown",
   "id": "36a1cba5-ed8c-456d-880a-54e0d56643e0",
   "metadata": {},
   "source": [
    "it is clear that we must establish whether the difference between the average of birth weight between the two categories is statistically significant by performing a t-test:\n",
    "\n",
    "1. smokers\n",
    "2. non smokers"
   ]
  },
  {
   "cell_type": "code",
   "execution_count": 12,
   "id": "7ad6d015-e444-4dd0-aef0-de1a2c76e51c",
   "metadata": {},
   "outputs": [],
   "source": [
    "sample_01 = birth_weigth_data[(birth_weigth_data['smoker'] == 0)]\n",
    "sample_02 = birth_weigth_data[(birth_weigth_data['smoker'] == 1)]"
   ]
  },
  {
   "cell_type": "code",
   "execution_count": 13,
   "id": "79e90df2-4df8-4489-ae4f-74054242db86",
   "metadata": {},
   "outputs": [
    {
     "data": {
      "text/plain": [
       "((20, 16), (22, 16))"
      ]
     },
     "execution_count": 13,
     "metadata": {},
     "output_type": "execute_result"
    }
   ],
   "source": [
    "sample_01.shape, sample_02.shape"
   ]
  },
  {
   "cell_type": "markdown",
   "id": "c8db979e-58c0-43c0-b891-77c15fc972b9",
   "metadata": {},
   "source": [
    "The t-test can be applied only to samples with the same number of records."
   ]
  },
  {
   "cell_type": "code",
   "execution_count": 14,
   "id": "acd97b0a-ee66-464b-9c7b-b75c54a8f77a",
   "metadata": {},
   "outputs": [
    {
     "data": {
      "text/plain": [
       "((20, 16), (20, 16))"
      ]
     },
     "execution_count": 14,
     "metadata": {},
     "output_type": "execute_result"
    }
   ],
   "source": [
    "sample_02 = sample_02.sample(20)\n",
    "sample_01.shape, sample_02.shape"
   ]
  },
  {
   "cell_type": "markdown",
   "id": "8bb927e2-ff95-4e71-9e02-6f4de484173c",
   "metadata": {},
   "source": [
    "the t-test assumes equality or homogeneity of variances between the two samples. The **Levene** statistical test can be used to test for the assumption of equal variances.  \n",
    "\n",
    "The **Lavene** test has the following hypotheses:   \n",
    "- **H0**: the variances of the two samples are equal\n",
    "- **H1**: the variances of the two samples are **not** equal"
   ]
  },
  {
   "cell_type": "code",
   "execution_count": 15,
   "id": "e47fb3be-7d6e-450b-acb9-b5ceaac661ea",
   "metadata": {},
   "outputs": [
    {
     "data": {
      "text/plain": [
       "LeveneResult(statistic=0.5627828432752201, pvalue=0.45776116058771166)"
      ]
     },
     "execution_count": 15,
     "metadata": {},
     "output_type": "execute_result"
    }
   ],
   "source": [
    "stats.levene(sample_01['Birthweight'],sample_02['Birthweight'])"
   ]
  },
  {
   "cell_type": "markdown",
   "id": "1b25b272-7c54-4de2-8b22-9588547f364f",
   "metadata": {},
   "source": [
    "The pvalue=0.57 (57%) is well over the default threshold of 5%, therefore this instance of the Lavene test confirms the null hypothesis. This means that it is unlikely that the two samples display very similar variances by chance."
   ]
  },
  {
   "cell_type": "markdown",
   "id": "61636edd-8707-4fb8-a1d8-e5db156b8ef3",
   "metadata": {},
   "source": [
    "The Lavene test confirms that the variances of the birthweight samples sample_01 and sample_03 are equal, which is a precondition to applying the t-test to test whether the means of these samples may be  considered statistically different.\n"
   ]
  },
  {
   "cell_type": "code",
   "execution_count": 16,
   "id": "7900ea87-8058-4f05-9a2c-e5441620f1e6",
   "metadata": {},
   "outputs": [
    {
     "data": {
      "text/plain": [
       "TtestResult(statistic=2.171560081881696, pvalue=0.03619911258435425, df=38.0)"
      ]
     },
     "execution_count": 16,
     "metadata": {},
     "output_type": "execute_result"
    }
   ],
   "source": [
    "stats.ttest_ind(sample_01['Birthweight'],sample_02['Birthweight'])"
   ]
  },
  {
   "cell_type": "markdown",
   "id": "a22c220f-825f-404b-a355-96d0ba053faa",
   "metadata": {},
   "source": [
    "The t-test null hypotheses are the following.\n",
    "\n",
    "H0: the two independent samples have identical average values\n",
    "H1: the two independent samples have statistically different average values\n",
    "\n",
    "A t-test p-value > 0.05 (5%) rejects H1 (the alternative hypothesis)\n",
    "A t-test p-value < 0.05 (5%) rejects H0 (the null hypothesis)."
   ]
  },
  {
   "cell_type": "markdown",
   "id": "80f8bed1-07db-405d-adb7-b549d0694974",
   "metadata": {},
   "source": [
    "In this example the p-value that is obtained by running the test changes with each run and it is above and below the threshold of 5%, therefore it does not provide a good tool to test whether the average Birthweight in the sample data sample_01 and sample_03 are statistically different or not."
   ]
  },
  {
   "cell_type": "code",
   "execution_count": null,
   "id": "2124630f-c885-49e0-97de-cde633a832d9",
   "metadata": {},
   "outputs": [],
   "source": []
  }
 ],
 "metadata": {
  "kernelspec": {
   "display_name": "Python 3 (ipykernel)",
   "language": "python",
   "name": "python3"
  },
  "language_info": {
   "codemirror_mode": {
    "name": "ipython",
    "version": 3
   },
   "file_extension": ".py",
   "mimetype": "text/x-python",
   "name": "python",
   "nbconvert_exporter": "python",
   "pygments_lexer": "ipython3",
   "version": "3.11.7"
  }
 },
 "nbformat": 4,
 "nbformat_minor": 5
}
