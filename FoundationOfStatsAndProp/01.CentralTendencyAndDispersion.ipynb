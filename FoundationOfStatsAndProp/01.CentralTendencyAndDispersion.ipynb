{
 "cells": [
  {
   "cell_type": "markdown",
   "id": "a7424f7b-0fe2-4e3e-b5d7-ded8ebf638c6",
   "metadata": {},
   "source": [
    "https://www.kaggle.com/datasets/rakkesharv/forbes-2000-global-companies"
   ]
  },
  {
   "cell_type": "code",
   "execution_count": 1,
   "id": "31c65b00-1583-4c60-9bd9-d2d2d1f13e39",
   "metadata": {},
   "outputs": [],
   "source": [
    "import statistics"
   ]
  },
  {
   "cell_type": "code",
   "execution_count": 2,
   "id": "c6bd09b9-2d41-4de1-b410-2a73d1db76e0",
   "metadata": {},
   "outputs": [],
   "source": [
    "import numpy as np"
   ]
  },
  {
   "cell_type": "code",
   "execution_count": 3,
   "id": "7a90ba54-f452-4a72-9d48-6be2f35d7cd0",
   "metadata": {},
   "outputs": [],
   "source": [
    "import pandas as pd"
   ]
  },
  {
   "cell_type": "code",
   "execution_count": 4,
   "id": "24960fa2-05d9-4c58-a4ce-593818f63c7f",
   "metadata": {},
   "outputs": [],
   "source": [
    "import seaborn as sns"
   ]
  },
  {
   "cell_type": "code",
   "execution_count": 5,
   "id": "393c0c8d-8e6e-47e1-9b56-2d9da8470430",
   "metadata": {},
   "outputs": [],
   "source": [
    "import matplotlib.pyplot as plt"
   ]
  },
  {
   "cell_type": "code",
   "execution_count": 6,
   "id": "d63ae9b0-cab2-4979-b516-04887c16f5af",
   "metadata": {},
   "outputs": [],
   "source": [
    "sns.set_theme(style=\"darkgrid\")"
   ]
  },
  {
   "cell_type": "code",
   "execution_count": 7,
   "id": "aa71a069-28ea-4b43-8aab-85e68b5100e9",
   "metadata": {},
   "outputs": [],
   "source": [
    "forbes_data = pd.read_csv(\"datasets/forbes.csv\")"
   ]
  },
  {
   "cell_type": "code",
   "execution_count": 8,
   "id": "87960f21-9f53-48d2-9da9-662170f1cd61",
   "metadata": {},
   "outputs": [
    {
     "data": {
      "text/html": [
       "<div>\n",
       "<style scoped>\n",
       "    .dataframe tbody tr th:only-of-type {\n",
       "        vertical-align: middle;\n",
       "    }\n",
       "\n",
       "    .dataframe tbody tr th {\n",
       "        vertical-align: top;\n",
       "    }\n",
       "\n",
       "    .dataframe thead th {\n",
       "        text-align: right;\n",
       "    }\n",
       "</style>\n",
       "<table border=\"1\" class=\"dataframe\">\n",
       "  <thead>\n",
       "    <tr style=\"text-align: right;\">\n",
       "      <th></th>\n",
       "      <th>Rank</th>\n",
       "      <th>Company</th>\n",
       "      <th>Country</th>\n",
       "      <th>Sales</th>\n",
       "      <th>Profits</th>\n",
       "      <th>Assets</th>\n",
       "      <th>Market Value</th>\n",
       "      <th>Sector</th>\n",
       "      <th>Industry</th>\n",
       "    </tr>\n",
       "  </thead>\n",
       "  <tbody>\n",
       "    <tr>\n",
       "      <th>0</th>\n",
       "      <td>1</td>\n",
       "      <td>ICBC</td>\n",
       "      <td>China</td>\n",
       "      <td>151.4</td>\n",
       "      <td>42.0</td>\n",
       "      <td>3473.2</td>\n",
       "      <td>229.8</td>\n",
       "      <td>Financials</td>\n",
       "      <td>Major Banks</td>\n",
       "    </tr>\n",
       "    <tr>\n",
       "      <th>1</th>\n",
       "      <td>2</td>\n",
       "      <td>China Construction Bank</td>\n",
       "      <td>China</td>\n",
       "      <td>134.2</td>\n",
       "      <td>35.0</td>\n",
       "      <td>3016.6</td>\n",
       "      <td>200.5</td>\n",
       "      <td>Financials</td>\n",
       "      <td>Regional Banks</td>\n",
       "    </tr>\n",
       "    <tr>\n",
       "      <th>2</th>\n",
       "      <td>3</td>\n",
       "      <td>Berkshire Hathaway</td>\n",
       "      <td>United States</td>\n",
       "      <td>222.9</td>\n",
       "      <td>24.1</td>\n",
       "      <td>620.9</td>\n",
       "      <td>409.9</td>\n",
       "      <td>Financials</td>\n",
       "      <td>Investment Services</td>\n",
       "    </tr>\n",
       "    <tr>\n",
       "      <th>3</th>\n",
       "      <td>4</td>\n",
       "      <td>JPMorgan Chase</td>\n",
       "      <td>United States</td>\n",
       "      <td>102.5</td>\n",
       "      <td>24.2</td>\n",
       "      <td>2513.0</td>\n",
       "      <td>306.6</td>\n",
       "      <td>Financials</td>\n",
       "      <td>Major Banks</td>\n",
       "    </tr>\n",
       "    <tr>\n",
       "      <th>4</th>\n",
       "      <td>5</td>\n",
       "      <td>Wells Fargo</td>\n",
       "      <td>United States</td>\n",
       "      <td>97.6</td>\n",
       "      <td>21.9</td>\n",
       "      <td>1943.4</td>\n",
       "      <td>274.4</td>\n",
       "      <td>Financials</td>\n",
       "      <td>Major Banks</td>\n",
       "    </tr>\n",
       "  </tbody>\n",
       "</table>\n",
       "</div>"
      ],
      "text/plain": [
       "   Rank                  Company        Country  Sales  Profits  Assets  \\\n",
       "0     1                     ICBC          China  151.4     42.0  3473.2   \n",
       "1     2  China Construction Bank          China  134.2     35.0  3016.6   \n",
       "2     3       Berkshire Hathaway  United States  222.9     24.1   620.9   \n",
       "3     4           JPMorgan Chase  United States  102.5     24.2  2513.0   \n",
       "4     5              Wells Fargo  United States   97.6     21.9  1943.4   \n",
       "\n",
       "   Market Value      Sector             Industry  \n",
       "0         229.8  Financials          Major Banks  \n",
       "1         200.5  Financials       Regional Banks  \n",
       "2         409.9  Financials  Investment Services  \n",
       "3         306.6  Financials          Major Banks  \n",
       "4         274.4  Financials          Major Banks  "
      ]
     },
     "execution_count": 8,
     "metadata": {},
     "output_type": "execute_result"
    }
   ],
   "source": [
    "forbes_data.head()"
   ]
  },
  {
   "cell_type": "code",
   "execution_count": 9,
   "id": "4ea3233b-8ce4-4974-800a-d04d14bb8260",
   "metadata": {
    "scrolled": true
   },
   "outputs": [
    {
     "data": {
      "text/plain": [
       "Rank            2000\n",
       "Company         2000\n",
       "Country         2000\n",
       "Sales           2000\n",
       "Profits         2000\n",
       "Assets          2000\n",
       "Market Value    2000\n",
       "Sector          1803\n",
       "Industry        1509\n",
       "dtype: int64"
      ]
     },
     "execution_count": 9,
     "metadata": {},
     "output_type": "execute_result"
    }
   ],
   "source": [
    "forbes_data.count()"
   ]
  },
  {
   "cell_type": "markdown",
   "id": "518a6855-a8d3-4f4b-9e1e-0a7d063d6e42",
   "metadata": {},
   "source": [
    "does this dataset hold any null values?"
   ]
  },
  {
   "cell_type": "code",
   "execution_count": 10,
   "id": "4e81e1a0-6cea-40ba-a300-4e8f4826ecdc",
   "metadata": {},
   "outputs": [
    {
     "data": {
      "text/plain": [
       "Rank              0\n",
       "Company           0\n",
       "Country           0\n",
       "Sales             0\n",
       "Profits           0\n",
       "Assets            0\n",
       "Market Value      0\n",
       "Sector          197\n",
       "Industry        491\n",
       "dtype: int64"
      ]
     },
     "execution_count": 10,
     "metadata": {},
     "output_type": "execute_result"
    }
   ],
   "source": [
    "forbes_data.isnull().sum()"
   ]
  },
  {
   "cell_type": "markdown",
   "id": "1c7373ee-2302-4fdf-b88c-2d540244afcc",
   "metadata": {},
   "source": [
    "clean up the dataset from the NA values"
   ]
  },
  {
   "cell_type": "code",
   "execution_count": 11,
   "id": "2cf11de9-71e1-4c47-9bbc-d874c91efe55",
   "metadata": {},
   "outputs": [],
   "source": [
    "forbes_data.dropna(inplace=True)"
   ]
  },
  {
   "cell_type": "code",
   "execution_count": 12,
   "id": "d7a62bb6-999d-4aee-994d-adb538863356",
   "metadata": {},
   "outputs": [
    {
     "data": {
      "text/plain": [
       "Rank            0\n",
       "Company         0\n",
       "Country         0\n",
       "Sales           0\n",
       "Profits         0\n",
       "Assets          0\n",
       "Market Value    0\n",
       "Sector          0\n",
       "Industry        0\n",
       "dtype: int64"
      ]
     },
     "execution_count": 12,
     "metadata": {},
     "output_type": "execute_result"
    }
   ],
   "source": [
    "forbes_data.isnull().sum()"
   ]
  },
  {
   "cell_type": "code",
   "execution_count": 13,
   "id": "a0e5d6ee-8e75-43d7-9c29-7da907792c95",
   "metadata": {},
   "outputs": [
    {
     "data": {
      "text/plain": [
       "Rank            1508\n",
       "Company         1508\n",
       "Country         1508\n",
       "Sales           1508\n",
       "Profits         1508\n",
       "Assets          1508\n",
       "Market Value    1508\n",
       "Sector          1508\n",
       "Industry        1508\n",
       "dtype: int64"
      ]
     },
     "execution_count": 13,
     "metadata": {},
     "output_type": "execute_result"
    }
   ],
   "source": [
    "forbes_data.count()"
   ]
  },
  {
   "cell_type": "code",
   "execution_count": 14,
   "id": "cb86b1ee-eb5b-4390-b3ff-7839a2b16ee0",
   "metadata": {},
   "outputs": [
    {
     "data": {
      "text/plain": [
       "(1508, 9)"
      ]
     },
     "execution_count": 14,
     "metadata": {},
     "output_type": "execute_result"
    }
   ],
   "source": [
    "forbes_data.shape"
   ]
  },
  {
   "cell_type": "markdown",
   "id": "9b220622-d44e-4833-ab8f-8af0c8a220da",
   "metadata": {},
   "source": [
    "Compute the Mean Market Value (a measure of central tendency)"
   ]
  },
  {
   "cell_type": "code",
   "execution_count": 15,
   "id": "9f9fc6a4-4b80-41fb-882b-7c9e90ee3bf5",
   "metadata": {},
   "outputs": [],
   "source": [
    "mean_market_value = forbes_data[\"Market Value\"].mean()"
   ]
  },
  {
   "cell_type": "code",
   "execution_count": 16,
   "id": "7a2a4e45-4454-45f7-9bcb-dfdd3106f21b",
   "metadata": {},
   "outputs": [
    {
     "data": {
      "text/plain": [
       "26.978494031830238"
      ]
     },
     "execution_count": 16,
     "metadata": {},
     "output_type": "execute_result"
    }
   ],
   "source": [
    "mean_market_value"
   ]
  },
  {
   "cell_type": "markdown",
   "id": "33c3bfa1-d7f3-4d47-927e-60edf3af0d5d",
   "metadata": {},
   "source": [
    "Compute the Median Market Value (a measure of central tendency: the value at 50th percentile)"
   ]
  },
  {
   "cell_type": "code",
   "execution_count": 17,
   "id": "29aee34a-4f8c-4e2f-afae-1ecfdcdfd820",
   "metadata": {},
   "outputs": [],
   "source": [
    "median_market_value = forbes_data[\"Market Value\"].median()"
   ]
  },
  {
   "cell_type": "code",
   "execution_count": 18,
   "id": "96f7aebc-c986-4922-a756-b72824620f6c",
   "metadata": {},
   "outputs": [
    {
     "data": {
      "text/plain": [
       "13.1"
      ]
     },
     "execution_count": 18,
     "metadata": {},
     "output_type": "execute_result"
    }
   ],
   "source": [
    "median_market_value"
   ]
  },
  {
   "cell_type": "markdown",
   "id": "5537dca7-f5a1-42bb-81ce-32578c520b07",
   "metadata": {},
   "source": [
    "the difference between the median and mean values indicates the impact of outliers in the dataset. \n",
    "The larger the difference the larger the effect of outliers."
   ]
  },
  {
   "cell_type": "code",
   "execution_count": 19,
   "id": "f0f386e0-0116-4055-ae6b-695f1986e2e0",
   "metadata": {},
   "outputs": [],
   "source": [
    "d_mean_median_market_value = mean_market_value - median_market_value"
   ]
  },
  {
   "cell_type": "code",
   "execution_count": 20,
   "id": "fea64951-52d8-435e-8a77-13eaf424a6e6",
   "metadata": {},
   "outputs": [
    {
     "data": {
      "text/plain": [
       "13.878494031830238"
      ]
     },
     "execution_count": 20,
     "metadata": {},
     "output_type": "execute_result"
    }
   ],
   "source": [
    "d_mean_median_market_value"
   ]
  },
  {
   "cell_type": "markdown",
   "id": "9a2904f1-b599-460d-b0cd-587cf548bbb2",
   "metadata": {},
   "source": [
    "the statistics named \"mode\" is a breakdown of the number of items counted as part of one of the available categorical values. \n",
    "In this example the \"Sector\" feature of the dataset is categorical, therefore it is possible to compute the statistics \"mode\" on this feature."
   ]
  },
  {
   "cell_type": "code",
   "execution_count": 21,
   "id": "7c6612d5-8ff1-49b9-9838-0f483f0fbf51",
   "metadata": {},
   "outputs": [
    {
     "data": {
      "text/plain": [
       "Sector\n",
       "Financials                    474\n",
       "Consumer Discretionary        209\n",
       "Industrials                   192\n",
       "Materials                     145\n",
       "Consumer Staples              106\n",
       "Information Technology        103\n",
       "Utilities                      86\n",
       "Energy                         79\n",
       "Health Care                    71\n",
       "Telecommunication Services     43\n",
       "Name: count, dtype: int64"
      ]
     },
     "execution_count": 21,
     "metadata": {},
     "output_type": "execute_result"
    }
   ],
   "source": [
    "forbes_data[\"Sector\"].value_counts()"
   ]
  },
  {
   "cell_type": "code",
   "execution_count": 22,
   "id": "e7b9898f-66f0-4638-9a06-aae2e79df28c",
   "metadata": {},
   "outputs": [],
   "source": [
    "mode_sector = forbes_data[\"Sector\"].mode()"
   ]
  },
  {
   "cell_type": "code",
   "execution_count": 23,
   "id": "0470e462-2dd6-4da8-b076-abf3b8cf2cbf",
   "metadata": {},
   "outputs": [
    {
     "data": {
      "text/plain": [
       "0    Financials\n",
       "Name: Sector, dtype: object"
      ]
     },
     "execution_count": 23,
     "metadata": {},
     "output_type": "execute_result"
    }
   ],
   "source": [
    "mode_sector"
   ]
  },
  {
   "cell_type": "markdown",
   "id": "87eef0db-2c6e-4674-8192-4193a48c50b2",
   "metadata": {},
   "source": [
    "visualize data with a Box Plot"
   ]
  },
  {
   "cell_type": "code",
   "execution_count": 24,
   "id": "4bf3d007-cab8-406c-bdf3-01e7bb16799a",
   "metadata": {},
   "outputs": [
    {
     "data": {
      "text/plain": [
       "<Figure size 1200x800 with 0 Axes>"
      ]
     },
     "execution_count": 24,
     "metadata": {},
     "output_type": "execute_result"
    },
    {
     "data": {
      "text/plain": [
       "<Figure size 1200x800 with 0 Axes>"
      ]
     },
     "metadata": {},
     "output_type": "display_data"
    }
   ],
   "source": [
    "plt.figure(figsize=(12, 8))"
   ]
  },
  {
   "cell_type": "code",
   "execution_count": 25,
   "id": "e275e170-f6f9-4062-a01e-b8f1c42a2408",
   "metadata": {},
   "outputs": [
    {
     "data": {
      "image/png": "[encoded data removed]",
      "text/plain": [
       "<Figure size 640x480 with 1 Axes>"
      ]
     },
     "metadata": {},
     "output_type": "display_data"
    }
   ],
   "source": [
    "sns.boxplot(data=forbes_data, y='Market Value', showmeans=True)\n",
    "\n",
    "plt.axhline(y=mean_market_value, color='r', linestyle='-')\n",
    "plt.axhline(y=median_market_value, color='g', linestyle='-')\n",
    "plt.title('Forbes Data')\n",
    "plt.show()"
   ]
  },
  {
   "cell_type": "markdown",
   "id": "7c8b8085-8180-4e91-9cd0-df67ee0f53ef",
   "metadata": {},
   "source": [
    "a better representation of the box plot"
   ]
  },
  {
   "cell_type": "code",
   "execution_count": 26,
   "id": "002d208d-8e40-4143-8d7c-12c0052cbf6a",
   "metadata": {},
   "outputs": [
    {
     "data": {
      "image/png": "[encoded data removed]",
      "text/plain": [
       "<Figure size 640x480 with 1 Axes>"
      ]
     },
     "metadata": {},
     "output_type": "display_data"
    }
   ],
   "source": [
    "sns.boxplot(data=forbes_data, y='Market Value', showmeans=True)\n",
    "\n",
    "plt.ylim(0,80)\n",
    "\n",
    "plt.axhline(y=mean_market_value, color='r', linestyle='-')\n",
    "plt.axhline(y=median_market_value, color='g', linestyle='-')\n",
    "plt.title('Forbes Data')\n",
    "plt.show()"
   ]
  },
  {
   "cell_type": "markdown",
   "id": "1a2e66b1-7cb8-483c-87f2-ed8ff027c678",
   "metadata": {},
   "source": [
    "The green line at teh center of teh box is the MEDIAN.\n",
    "The distance between the top and the bottom of the box is the INTERQUARTILE RANGE.\n",
    "The IQR is the range whose upper bound is the 75th%-tile above and the lower bound is the 25%th-tile.\n",
    "The black wisker in the plot are positioned at: \n",
    "[(1.5)*IQR + 75th%-tile] \n",
    "[(1.5)*IQR + 25th%-tile] \n",
    "\n"
   ]
  }
 ],
 "metadata": {
  "kernelspec": {
   "display_name": "Python 3 (ipykernel)",
   "language": "python",
   "name": "python3"
  },
  "language_info": {
   "codemirror_mode": {
    "name": "ipython",
    "version": 3
   },
   "file_extension": ".py",
   "mimetype": "text/x-python",
   "name": "python",
   "nbconvert_exporter": "python",
   "pygments_lexer": "ipython3",
   "version": "3.11.7"
  }
 },
 "nbformat": 4,
 "nbformat_minor": 5
}
