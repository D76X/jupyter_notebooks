{
 "cells": [
  {
   "cell_type": "code",
   "execution_count": 4,
   "id": "70c7e585-a39f-4ebd-8c48-5db9a3ae7d92",
   "metadata": {},
   "outputs": [],
   "source": [
    "# Skewness\n",
    "# skewness: a measure of asymmetry around the mean, it is 0 for an ND\n",
    "# skewness = 0 means that values at the edges of the distribution are equally likely\n",
    "\n",
    "# Positive Skeewnes:\n",
    "# A right-skewed distribution shows many outliers with values larger than the mean.\n",
    "# These outliers greatly affect the mean value as they shift it considerably to the right of the median value.\n",
    "# An example is the distribution of incomes. \n",
    "# Income is floored at ZERO on the left as there cannot be negative values of income. \n",
    "# However, there is no upper limit to the possible values of incomes, thus this specific distribution will be right-skewed\n",
    "\n",
    "# Negative Skeewnes:\n",
    "# A left-skewed distribution shows many outliers with values smaller than the mean.\n",
    "# These outliers greatly affect the mean value as they shift it considerably to the left of the median value.\n",
    "# An example is the distribution of losses caused by storms. \n",
    "# The large majority of storms cause little or no losses.\n",
    "# Occasionally a large storm may cause great losses.\n",
    "# In this example the mean value will shift to the left of the median.\n",
    "# Losses that are caused by storms have an upper bound of zero and no lower bound."
   ]
  },
  {
   "cell_type": "code",
   "execution_count": null,
   "id": "1b6b8f5c-54ad-4c37-afd5-bb4deada3763",
   "metadata": {},
   "outputs": [],
   "source": [
    "# Kurtosis\n",
    "# Kurtosis is a measure of the frequency of outliers.\n",
    "# ND have a kurtosis of 3.\n",
    "# Excess kurtosis = kurtosis - 3\n",
    "# A distribution with Kurtosis larger than 3 is a distribution in which outliers are more likely than the outliers of a ND"
   ]
  }
 ],
 "metadata": {
  "kernelspec": {
   "display_name": "Python 3 (ipykernel)",
   "language": "python",
   "name": "python3"
  },
  "language_info": {
   "codemirror_mode": {
    "name": "ipython",
    "version": 3
   },
   "file_extension": ".py",
   "mimetype": "text/x-python",
   "name": "python",
   "nbconvert_exporter": "python",
   "pygments_lexer": "ipython3",
   "version": "3.11.7"
  }
 },
 "nbformat": 4,
 "nbformat_minor": 5
}
